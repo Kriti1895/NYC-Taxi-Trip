{
 "cells": [
  {
   "cell_type": "code",
   "execution_count": 1,
   "id": "ed7e51d4",
   "metadata": {},
   "outputs": [],
   "source": [
    "#Importing the required libraries\n",
    "import pandas as pd\n",
    "import numpy as np\n",
    "import matplotlib.pyplot as plt\n",
    "%matplotlib inline\n",
    "import seaborn as sns\n",
    "import datetime as dt\n",
    "from datetime import timedelta\n",
    "from sklearn.model_selection import train_test_split\n",
    "import warnings\n",
    "warnings.filterwarnings(\"ignore\")"
   ]
  },
  {
   "cell_type": "code",
   "execution_count": 2,
   "id": "caaf7306",
   "metadata": {},
   "outputs": [],
   "source": [
    "#Reading the CSV file\n",
    "df=pd.read_csv(\"nyc_taxi_trip_duration.csv\")"
   ]
  },
  {
   "cell_type": "code",
   "execution_count": 3,
   "id": "4279f8e5",
   "metadata": {},
   "outputs": [
    {
     "data": {
      "text/html": [
       "<div>\n",
       "<style scoped>\n",
       "    .dataframe tbody tr th:only-of-type {\n",
       "        vertical-align: middle;\n",
       "    }\n",
       "\n",
       "    .dataframe tbody tr th {\n",
       "        vertical-align: top;\n",
       "    }\n",
       "\n",
       "    .dataframe thead th {\n",
       "        text-align: right;\n",
       "    }\n",
       "</style>\n",
       "<table border=\"1\" class=\"dataframe\">\n",
       "  <thead>\n",
       "    <tr style=\"text-align: right;\">\n",
       "      <th></th>\n",
       "      <th>id</th>\n",
       "      <th>vendor_id</th>\n",
       "      <th>pickup_datetime</th>\n",
       "      <th>dropoff_datetime</th>\n",
       "      <th>passenger_count</th>\n",
       "      <th>pickup_longitude</th>\n",
       "      <th>pickup_latitude</th>\n",
       "      <th>dropoff_longitude</th>\n",
       "      <th>dropoff_latitude</th>\n",
       "      <th>store_and_fwd_flag</th>\n",
       "      <th>trip_duration</th>\n",
       "    </tr>\n",
       "  </thead>\n",
       "  <tbody>\n",
       "    <tr>\n",
       "      <th>0</th>\n",
       "      <td>id1080784</td>\n",
       "      <td>2</td>\n",
       "      <td>2016-02-29 16:40:21</td>\n",
       "      <td>2016-02-29 16:47:01</td>\n",
       "      <td>1</td>\n",
       "      <td>-73.953918</td>\n",
       "      <td>40.778873</td>\n",
       "      <td>-73.963875</td>\n",
       "      <td>40.771164</td>\n",
       "      <td>N</td>\n",
       "      <td>400</td>\n",
       "    </tr>\n",
       "    <tr>\n",
       "      <th>1</th>\n",
       "      <td>id0889885</td>\n",
       "      <td>1</td>\n",
       "      <td>2016-03-11 23:35:37</td>\n",
       "      <td>2016-03-11 23:53:57</td>\n",
       "      <td>2</td>\n",
       "      <td>-73.988312</td>\n",
       "      <td>40.731743</td>\n",
       "      <td>-73.994751</td>\n",
       "      <td>40.694931</td>\n",
       "      <td>N</td>\n",
       "      <td>1100</td>\n",
       "    </tr>\n",
       "    <tr>\n",
       "      <th>2</th>\n",
       "      <td>id0857912</td>\n",
       "      <td>2</td>\n",
       "      <td>2016-02-21 17:59:33</td>\n",
       "      <td>2016-02-21 18:26:48</td>\n",
       "      <td>2</td>\n",
       "      <td>-73.997314</td>\n",
       "      <td>40.721458</td>\n",
       "      <td>-73.948029</td>\n",
       "      <td>40.774918</td>\n",
       "      <td>N</td>\n",
       "      <td>1635</td>\n",
       "    </tr>\n",
       "    <tr>\n",
       "      <th>3</th>\n",
       "      <td>id3744273</td>\n",
       "      <td>2</td>\n",
       "      <td>2016-01-05 09:44:31</td>\n",
       "      <td>2016-01-05 10:03:32</td>\n",
       "      <td>6</td>\n",
       "      <td>-73.961670</td>\n",
       "      <td>40.759720</td>\n",
       "      <td>-73.956779</td>\n",
       "      <td>40.780628</td>\n",
       "      <td>N</td>\n",
       "      <td>1141</td>\n",
       "    </tr>\n",
       "    <tr>\n",
       "      <th>4</th>\n",
       "      <td>id0232939</td>\n",
       "      <td>1</td>\n",
       "      <td>2016-02-17 06:42:23</td>\n",
       "      <td>2016-02-17 06:56:31</td>\n",
       "      <td>1</td>\n",
       "      <td>-74.017120</td>\n",
       "      <td>40.708469</td>\n",
       "      <td>-73.988182</td>\n",
       "      <td>40.740631</td>\n",
       "      <td>N</td>\n",
       "      <td>848</td>\n",
       "    </tr>\n",
       "  </tbody>\n",
       "</table>\n",
       "</div>"
      ],
      "text/plain": [
       "          id  vendor_id      pickup_datetime     dropoff_datetime  \\\n",
       "0  id1080784          2  2016-02-29 16:40:21  2016-02-29 16:47:01   \n",
       "1  id0889885          1  2016-03-11 23:35:37  2016-03-11 23:53:57   \n",
       "2  id0857912          2  2016-02-21 17:59:33  2016-02-21 18:26:48   \n",
       "3  id3744273          2  2016-01-05 09:44:31  2016-01-05 10:03:32   \n",
       "4  id0232939          1  2016-02-17 06:42:23  2016-02-17 06:56:31   \n",
       "\n",
       "   passenger_count  pickup_longitude  pickup_latitude  dropoff_longitude  \\\n",
       "0                1        -73.953918        40.778873         -73.963875   \n",
       "1                2        -73.988312        40.731743         -73.994751   \n",
       "2                2        -73.997314        40.721458         -73.948029   \n",
       "3                6        -73.961670        40.759720         -73.956779   \n",
       "4                1        -74.017120        40.708469         -73.988182   \n",
       "\n",
       "   dropoff_latitude store_and_fwd_flag  trip_duration  \n",
       "0         40.771164                  N            400  \n",
       "1         40.694931                  N           1100  \n",
       "2         40.774918                  N           1635  \n",
       "3         40.780628                  N           1141  \n",
       "4         40.740631                  N            848  "
      ]
     },
     "execution_count": 3,
     "metadata": {},
     "output_type": "execute_result"
    }
   ],
   "source": [
    "df.head()"
   ]
  },
  {
   "cell_type": "code",
   "execution_count": 4,
   "id": "00efd72a",
   "metadata": {},
   "outputs": [
    {
     "data": {
      "text/plain": [
       "(729322, 11)"
      ]
     },
     "execution_count": 4,
     "metadata": {},
     "output_type": "execute_result"
    }
   ],
   "source": [
    "#Finding the shape of the dataset\n",
    "df.shape"
   ]
  },
  {
   "cell_type": "code",
   "execution_count": 5,
   "id": "8c549586",
   "metadata": {},
   "outputs": [
    {
     "data": {
      "text/plain": [
       "Index(['id', 'vendor_id', 'pickup_datetime', 'dropoff_datetime',\n",
       "       'passenger_count', 'pickup_longitude', 'pickup_latitude',\n",
       "       'dropoff_longitude', 'dropoff_latitude', 'store_and_fwd_flag',\n",
       "       'trip_duration'],\n",
       "      dtype='object')"
      ]
     },
     "execution_count": 5,
     "metadata": {},
     "output_type": "execute_result"
    }
   ],
   "source": [
    "#Check columns present\n",
    "df.columns"
   ]
  },
  {
   "cell_type": "code",
   "execution_count": 6,
   "id": "e2d7d5b5",
   "metadata": {},
   "outputs": [
    {
     "data": {
      "text/plain": [
       "id                     object\n",
       "vendor_id               int64\n",
       "pickup_datetime        object\n",
       "dropoff_datetime       object\n",
       "passenger_count         int64\n",
       "pickup_longitude      float64\n",
       "pickup_latitude       float64\n",
       "dropoff_longitude     float64\n",
       "dropoff_latitude      float64\n",
       "store_and_fwd_flag     object\n",
       "trip_duration           int64\n",
       "dtype: object"
      ]
     },
     "execution_count": 6,
     "metadata": {},
     "output_type": "execute_result"
    }
   ],
   "source": [
    "#Checking for datatypes\n",
    "df.dtypes"
   ]
  },
  {
   "cell_type": "code",
   "execution_count": 7,
   "id": "b855b5c3",
   "metadata": {},
   "outputs": [
    {
     "data": {
      "text/plain": [
       "id                    729322\n",
       "vendor_id                  2\n",
       "pickup_datetime       709359\n",
       "dropoff_datetime      709308\n",
       "passenger_count            9\n",
       "pickup_longitude       19729\n",
       "pickup_latitude        39776\n",
       "dropoff_longitude      27892\n",
       "dropoff_latitude       53579\n",
       "store_and_fwd_flag         2\n",
       "trip_duration           6296\n",
       "dtype: int64"
      ]
     },
     "execution_count": 7,
     "metadata": {},
     "output_type": "execute_result"
    }
   ],
   "source": [
    "#Checking for unique values\n",
    "df.nunique()"
   ]
  },
  {
   "cell_type": "code",
   "execution_count": 8,
   "id": "540c0dbe",
   "metadata": {},
   "outputs": [
    {
     "data": {
      "text/plain": [
       "id                    0\n",
       "vendor_id             0\n",
       "pickup_datetime       0\n",
       "dropoff_datetime      0\n",
       "passenger_count       0\n",
       "pickup_longitude      0\n",
       "pickup_latitude       0\n",
       "dropoff_longitude     0\n",
       "dropoff_latitude      0\n",
       "store_and_fwd_flag    0\n",
       "trip_duration         0\n",
       "dtype: int64"
      ]
     },
     "execution_count": 8,
     "metadata": {},
     "output_type": "execute_result"
    }
   ],
   "source": [
    "#checking for null values\n",
    "df.isna().sum()"
   ]
  },
  {
   "cell_type": "code",
   "execution_count": 9,
   "id": "e9f68683",
   "metadata": {},
   "outputs": [
    {
     "data": {
      "text/html": [
       "<div>\n",
       "<style scoped>\n",
       "    .dataframe tbody tr th:only-of-type {\n",
       "        vertical-align: middle;\n",
       "    }\n",
       "\n",
       "    .dataframe tbody tr th {\n",
       "        vertical-align: top;\n",
       "    }\n",
       "\n",
       "    .dataframe thead th {\n",
       "        text-align: right;\n",
       "    }\n",
       "</style>\n",
       "<table border=\"1\" class=\"dataframe\">\n",
       "  <thead>\n",
       "    <tr style=\"text-align: right;\">\n",
       "      <th></th>\n",
       "      <th>vendor_id</th>\n",
       "      <th>passenger_count</th>\n",
       "      <th>pickup_longitude</th>\n",
       "      <th>pickup_latitude</th>\n",
       "      <th>dropoff_longitude</th>\n",
       "      <th>dropoff_latitude</th>\n",
       "      <th>trip_duration</th>\n",
       "    </tr>\n",
       "  </thead>\n",
       "  <tbody>\n",
       "    <tr>\n",
       "      <th>count</th>\n",
       "      <td>729322.000000</td>\n",
       "      <td>729322.000000</td>\n",
       "      <td>729322.000000</td>\n",
       "      <td>729322.000000</td>\n",
       "      <td>729322.000000</td>\n",
       "      <td>729322.000000</td>\n",
       "      <td>7.293220e+05</td>\n",
       "    </tr>\n",
       "    <tr>\n",
       "      <th>mean</th>\n",
       "      <td>1.535403</td>\n",
       "      <td>1.662055</td>\n",
       "      <td>-73.973513</td>\n",
       "      <td>40.750919</td>\n",
       "      <td>-73.973422</td>\n",
       "      <td>40.751775</td>\n",
       "      <td>9.522291e+02</td>\n",
       "    </tr>\n",
       "    <tr>\n",
       "      <th>std</th>\n",
       "      <td>0.498745</td>\n",
       "      <td>1.312446</td>\n",
       "      <td>0.069754</td>\n",
       "      <td>0.033594</td>\n",
       "      <td>0.069588</td>\n",
       "      <td>0.036037</td>\n",
       "      <td>3.864626e+03</td>\n",
       "    </tr>\n",
       "    <tr>\n",
       "      <th>min</th>\n",
       "      <td>1.000000</td>\n",
       "      <td>0.000000</td>\n",
       "      <td>-121.933342</td>\n",
       "      <td>34.712234</td>\n",
       "      <td>-121.933304</td>\n",
       "      <td>32.181141</td>\n",
       "      <td>1.000000e+00</td>\n",
       "    </tr>\n",
       "    <tr>\n",
       "      <th>25%</th>\n",
       "      <td>1.000000</td>\n",
       "      <td>1.000000</td>\n",
       "      <td>-73.991859</td>\n",
       "      <td>40.737335</td>\n",
       "      <td>-73.991318</td>\n",
       "      <td>40.735931</td>\n",
       "      <td>3.970000e+02</td>\n",
       "    </tr>\n",
       "    <tr>\n",
       "      <th>50%</th>\n",
       "      <td>2.000000</td>\n",
       "      <td>1.000000</td>\n",
       "      <td>-73.981758</td>\n",
       "      <td>40.754070</td>\n",
       "      <td>-73.979759</td>\n",
       "      <td>40.754509</td>\n",
       "      <td>6.630000e+02</td>\n",
       "    </tr>\n",
       "    <tr>\n",
       "      <th>75%</th>\n",
       "      <td>2.000000</td>\n",
       "      <td>2.000000</td>\n",
       "      <td>-73.967361</td>\n",
       "      <td>40.768314</td>\n",
       "      <td>-73.963036</td>\n",
       "      <td>40.769741</td>\n",
       "      <td>1.075000e+03</td>\n",
       "    </tr>\n",
       "    <tr>\n",
       "      <th>max</th>\n",
       "      <td>2.000000</td>\n",
       "      <td>9.000000</td>\n",
       "      <td>-65.897385</td>\n",
       "      <td>51.881084</td>\n",
       "      <td>-65.897385</td>\n",
       "      <td>43.921028</td>\n",
       "      <td>1.939736e+06</td>\n",
       "    </tr>\n",
       "  </tbody>\n",
       "</table>\n",
       "</div>"
      ],
      "text/plain": [
       "           vendor_id  passenger_count  pickup_longitude  pickup_latitude  \\\n",
       "count  729322.000000    729322.000000     729322.000000    729322.000000   \n",
       "mean        1.535403         1.662055        -73.973513        40.750919   \n",
       "std         0.498745         1.312446          0.069754         0.033594   \n",
       "min         1.000000         0.000000       -121.933342        34.712234   \n",
       "25%         1.000000         1.000000        -73.991859        40.737335   \n",
       "50%         2.000000         1.000000        -73.981758        40.754070   \n",
       "75%         2.000000         2.000000        -73.967361        40.768314   \n",
       "max         2.000000         9.000000        -65.897385        51.881084   \n",
       "\n",
       "       dropoff_longitude  dropoff_latitude  trip_duration  \n",
       "count      729322.000000     729322.000000   7.293220e+05  \n",
       "mean          -73.973422         40.751775   9.522291e+02  \n",
       "std             0.069588          0.036037   3.864626e+03  \n",
       "min          -121.933304         32.181141   1.000000e+00  \n",
       "25%           -73.991318         40.735931   3.970000e+02  \n",
       "50%           -73.979759         40.754509   6.630000e+02  \n",
       "75%           -73.963036         40.769741   1.075000e+03  \n",
       "max           -65.897385         43.921028   1.939736e+06  "
      ]
     },
     "execution_count": 9,
     "metadata": {},
     "output_type": "execute_result"
    }
   ],
   "source": [
    "#Describing the data\n",
    "df.describe()"
   ]
  },
  {
   "cell_type": "markdown",
   "id": "71408efc",
   "metadata": {},
   "source": [
    "# Feature Engineering "
   ]
  },
  {
   "cell_type": "code",
   "execution_count": 10,
   "id": "825da6cd",
   "metadata": {},
   "outputs": [],
   "source": [
    "# Changing the pickup_datetime and dropoff_datetime from object to datetime datatype\n",
    "df['pickup_datetime']=pd.to_datetime(df['pickup_datetime'])\n",
    "df['dropoff_datetime']=pd.to_datetime(df['dropoff_datetime'])"
   ]
  },
  {
   "cell_type": "code",
   "execution_count": 11,
   "id": "60a2be16",
   "metadata": {},
   "outputs": [
    {
     "name": "stdout",
     "output_type": "stream",
     "text": [
      "datetime64[ns]\n",
      "datetime64[ns]\n"
     ]
    }
   ],
   "source": [
    "# Checking to new datatype.\n",
    "print(df['pickup_datetime'].dtypes)\n",
    "print(df['dropoff_datetime'].dtypes)"
   ]
  },
  {
   "cell_type": "code",
   "execution_count": 12,
   "id": "2bf9e993",
   "metadata": {},
   "outputs": [],
   "source": [
    "#Extracting seperate details from datetime\n",
    "df['pickup_datetime'] = pd.to_datetime(df['pickup_datetime'])\n",
    "df['dropoff_datetime'] = pd.to_datetime(df['dropoff_datetime'])\n",
    "df['pickup_day'] = df['pickup_datetime'].dt.day\n",
    "df['pickup_month'] = df['pickup_datetime'].dt.month\n",
    "df['pickup_date'] = df['pickup_datetime'].dt.date\n",
    "df['pickup_hour'] = df['pickup_datetime'].dt.hour\n",
    "df['pickup_min'] = df['pickup_datetime'].dt.minute\n",
    "df['pickup_weekday'] = df['pickup_datetime'].dt.weekday\n",
    "df['dropoff_min'] = df['dropoff_datetime'].dt.minute\n",
    "\n",
    "#As the Date and time columns in the Dataset has lot of information in it, we have to fetch them as separate features."
   ]
  },
  {
   "cell_type": "markdown",
   "id": "06207091",
   "metadata": {},
   "source": [
    "# Univariate analysis-Categorical Data"
   ]
  },
  {
   "cell_type": "code",
   "execution_count": 13,
   "id": "36419791",
   "metadata": {},
   "outputs": [
    {
     "data": {
      "text/plain": [
       "Text(0.5, 1.0, 'Store and Forward flag')"
      ]
     },
     "execution_count": 13,
     "metadata": {},
     "output_type": "execute_result"
    },
    {
     "data": {
      "image/png": "[encoded data removed]",
      "text/plain": [
       "<Figure size 576x576 with 1 Axes>"
      ]
     },
     "metadata": {
      "needs_background": "light"
     },
     "output_type": "display_data"
    },
    {
     "data": {
      "image/png": "[encoded data removed]",
      "text/plain": [
       "<Figure size 720x504 with 1 Axes>"
      ]
     },
     "metadata": {
      "needs_background": "light"
     },
     "output_type": "display_data"
    },
    {
     "data": {
      "image/png": "[encoded data removed]",
      "text/plain": [
       "<Figure size 576x576 with 1 Axes>"
      ]
     },
     "metadata": {
      "needs_background": "light"
     },
     "output_type": "display_data"
    }
   ],
   "source": [
    "#Vendor ID\n",
    "plt.figure(figsize=(8,8))\n",
    "sns.countplot(df['vendor_id'])\n",
    "plt.title(\"Vendor ID\")\n",
    "#Passenger count\n",
    "plt.figure(figsize=(10,7))\n",
    "sns.countplot(df['passenger_count'])\n",
    "plt.title(\"Passenger count\")\n",
    "#store and forward flag\n",
    "plt.figure(figsize=(8,8))\n",
    "sns.countplot(df['store_and_fwd_flag'])\n",
    "plt.title(\"Store and Forward flag\")"
   ]
  },
  {
   "cell_type": "markdown",
   "id": "e47cf336",
   "metadata": {},
   "source": [
    "Visualization 1: From two Vendor IDs second one is preferred slightly more than the first one.\n",
    "Visualization 2: Most number of trips are done by single passenger. Trips with 5-9 passenger counts always used larger vehicle\n",
    "Visulaization 3: This flag indicates whether the trip record was held in vehicle memory before sending to the vendor because the vehicle did not have a connection to the server (Y=store and forward; N=not a store and forward trip).\n",
    "Visualization tells us that there were very few trips of which the records that were stored in memory due to no connectivity to the server."
   ]
  },
  {
   "cell_type": "code",
   "execution_count": 14,
   "id": "13246aa4",
   "metadata": {},
   "outputs": [],
   "source": [
    "#Converting Yes/No to 1/0 with the help of label encoder\n",
    "from sklearn.preprocessing import LabelEncoder\n",
    "enc=LabelEncoder()\n",
    "df['store_and_fwd_flag'] = enc.fit_transform(df['store_and_fwd_flag'])\n",
    "\n",
    "#Converting to binary value will help in easy computation."
   ]
  },
  {
   "cell_type": "code",
   "execution_count": 15,
   "id": "20826249",
   "metadata": {},
   "outputs": [
    {
     "data": {
      "text/plain": [
       "<AxesSubplot:xlabel='trip_duration'>"
      ]
     },
     "execution_count": 15,
     "metadata": {},
     "output_type": "execute_result"
    },
    {
     "data": {
      "image/png": "[encoded data removed]",
      "text/plain": [
       "<Figure size 1440x360 with 1 Axes>"
      ]
     },
     "metadata": {
      "needs_background": "light"
     },
     "output_type": "display_data"
    }
   ],
   "source": [
    "#Checking outliers\n",
    "plt.figure(figsize=(20,5))\n",
    "sns.boxplot(df['trip_duration'])"
   ]
  },
  {
   "cell_type": "markdown",
   "id": "ffe09bcf",
   "metadata": {},
   "source": [
    "Outlier is present in the plot"
   ]
  },
  {
   "cell_type": "code",
   "execution_count": 16,
   "id": "95311487",
   "metadata": {},
   "outputs": [
    {
     "data": {
      "text/plain": [
       "Text(0.5, 1.0, 'Log Transformed - Trip Duration')"
      ]
     },
     "execution_count": 16,
     "metadata": {},
     "output_type": "execute_result"
    },
    {
     "data": {
      "image/png": "[encoded data removed]",
      "text/plain": [
       "<Figure size 720x576 with 1 Axes>"
      ]
     },
     "metadata": {
      "needs_background": "light"
     },
     "output_type": "display_data"
    }
   ],
   "source": [
    "#Log Transformation\n",
    "plt.figure(figsize=(10,8))\n",
    "sns.distplot(np.log(df['trip_duration']), kde=False, color='black')\n",
    "plt.title(\"Log Transformed - Trip Duration\")"
   ]
  },
  {
   "cell_type": "markdown",
   "id": "7eb2173e",
   "metadata": {},
   "source": [
    "Log Transformation is used as it smoothens outliers by giving them less weightage."
   ]
  },
  {
   "cell_type": "code",
   "execution_count": 17,
   "id": "45656ca0",
   "metadata": {},
   "outputs": [
    {
     "data": {
      "text/html": [
       "<div>\n",
       "<style scoped>\n",
       "    .dataframe tbody tr th:only-of-type {\n",
       "        vertical-align: middle;\n",
       "    }\n",
       "\n",
       "    .dataframe tbody tr th {\n",
       "        vertical-align: top;\n",
       "    }\n",
       "\n",
       "    .dataframe thead th {\n",
       "        text-align: right;\n",
       "    }\n",
       "</style>\n",
       "<table border=\"1\" class=\"dataframe\">\n",
       "  <thead>\n",
       "    <tr style=\"text-align: right;\">\n",
       "      <th></th>\n",
       "      <th>id</th>\n",
       "      <th>vendor_id</th>\n",
       "      <th>pickup_datetime</th>\n",
       "      <th>dropoff_datetime</th>\n",
       "      <th>passenger_count</th>\n",
       "      <th>pickup_longitude</th>\n",
       "      <th>pickup_latitude</th>\n",
       "      <th>dropoff_longitude</th>\n",
       "      <th>dropoff_latitude</th>\n",
       "      <th>store_and_fwd_flag</th>\n",
       "      <th>trip_duration</th>\n",
       "      <th>pickup_day</th>\n",
       "      <th>pickup_month</th>\n",
       "      <th>pickup_date</th>\n",
       "      <th>pickup_hour</th>\n",
       "      <th>pickup_min</th>\n",
       "      <th>pickup_weekday</th>\n",
       "      <th>dropoff_min</th>\n",
       "    </tr>\n",
       "  </thead>\n",
       "  <tbody>\n",
       "    <tr>\n",
       "      <th>21813</th>\n",
       "      <td>id1864733</td>\n",
       "      <td>1</td>\n",
       "      <td>2016-01-05 00:19:42</td>\n",
       "      <td>2016-01-27 11:08:38</td>\n",
       "      <td>1</td>\n",
       "      <td>-73.78965</td>\n",
       "      <td>40.643559</td>\n",
       "      <td>-73.95681</td>\n",
       "      <td>40.773087</td>\n",
       "      <td>0</td>\n",
       "      <td>1939736</td>\n",
       "      <td>5</td>\n",
       "      <td>1</td>\n",
       "      <td>2016-01-05</td>\n",
       "      <td>0</td>\n",
       "      <td>19</td>\n",
       "      <td>1</td>\n",
       "      <td>8</td>\n",
       "    </tr>\n",
       "  </tbody>\n",
       "</table>\n",
       "</div>"
      ],
      "text/plain": [
       "              id  vendor_id     pickup_datetime    dropoff_datetime  \\\n",
       "21813  id1864733          1 2016-01-05 00:19:42 2016-01-27 11:08:38   \n",
       "\n",
       "       passenger_count  pickup_longitude  pickup_latitude  dropoff_longitude  \\\n",
       "21813                1         -73.78965        40.643559          -73.95681   \n",
       "\n",
       "       dropoff_latitude  store_and_fwd_flag  trip_duration  pickup_day  \\\n",
       "21813         40.773087                   0        1939736           5   \n",
       "\n",
       "       pickup_month pickup_date  pickup_hour  pickup_min  pickup_weekday  \\\n",
       "21813             1  2016-01-05            0          19               1   \n",
       "\n",
       "       dropoff_min  \n",
       "21813            8  "
      ]
     },
     "execution_count": 17,
     "metadata": {},
     "output_type": "execute_result"
    }
   ],
   "source": [
    "#Checking outlier-maximum row\n",
    "df[df['trip_duration'] == df['trip_duration'].max()]"
   ]
  },
  {
   "cell_type": "code",
   "execution_count": 18,
   "id": "8451cae5",
   "metadata": {},
   "outputs": [],
   "source": [
    "#Dropping outlier-maxium row\n",
    "df.drop(df[df['trip_duration'] == 1939736.00].index, inplace = True)"
   ]
  },
  {
   "cell_type": "code",
   "execution_count": 19,
   "id": "64b02966",
   "metadata": {},
   "outputs": [
    {
     "data": {
      "text/html": [
       "<div>\n",
       "<style scoped>\n",
       "    .dataframe tbody tr th:only-of-type {\n",
       "        vertical-align: middle;\n",
       "    }\n",
       "\n",
       "    .dataframe tbody tr th {\n",
       "        vertical-align: top;\n",
       "    }\n",
       "\n",
       "    .dataframe thead th {\n",
       "        text-align: right;\n",
       "    }\n",
       "</style>\n",
       "<table border=\"1\" class=\"dataframe\">\n",
       "  <thead>\n",
       "    <tr style=\"text-align: right;\">\n",
       "      <th></th>\n",
       "      <th>id</th>\n",
       "      <th>vendor_id</th>\n",
       "      <th>pickup_datetime</th>\n",
       "      <th>dropoff_datetime</th>\n",
       "      <th>passenger_count</th>\n",
       "      <th>pickup_longitude</th>\n",
       "      <th>pickup_latitude</th>\n",
       "      <th>dropoff_longitude</th>\n",
       "      <th>dropoff_latitude</th>\n",
       "      <th>store_and_fwd_flag</th>\n",
       "      <th>trip_duration</th>\n",
       "      <th>pickup_day</th>\n",
       "      <th>pickup_month</th>\n",
       "      <th>pickup_date</th>\n",
       "      <th>pickup_hour</th>\n",
       "      <th>pickup_min</th>\n",
       "      <th>pickup_weekday</th>\n",
       "      <th>dropoff_min</th>\n",
       "    </tr>\n",
       "  </thead>\n",
       "  <tbody>\n",
       "    <tr>\n",
       "      <th>259437</th>\n",
       "      <td>id0593332</td>\n",
       "      <td>2</td>\n",
       "      <td>2016-05-31 13:00:39</td>\n",
       "      <td>2016-06-01 13:00:30</td>\n",
       "      <td>1</td>\n",
       "      <td>-73.781952</td>\n",
       "      <td>40.644688</td>\n",
       "      <td>-73.993874</td>\n",
       "      <td>40.745926</td>\n",
       "      <td>0</td>\n",
       "      <td>86391</td>\n",
       "      <td>31</td>\n",
       "      <td>5</td>\n",
       "      <td>2016-05-31</td>\n",
       "      <td>13</td>\n",
       "      <td>0</td>\n",
       "      <td>1</td>\n",
       "      <td>0</td>\n",
       "    </tr>\n",
       "  </tbody>\n",
       "</table>\n",
       "</div>"
      ],
      "text/plain": [
       "               id  vendor_id     pickup_datetime    dropoff_datetime  \\\n",
       "259437  id0593332          2 2016-05-31 13:00:39 2016-06-01 13:00:30   \n",
       "\n",
       "        passenger_count  pickup_longitude  pickup_latitude  dropoff_longitude  \\\n",
       "259437                1        -73.781952        40.644688         -73.993874   \n",
       "\n",
       "        dropoff_latitude  store_and_fwd_flag  trip_duration  pickup_day  \\\n",
       "259437         40.745926                   0          86391          31   \n",
       "\n",
       "        pickup_month pickup_date  pickup_hour  pickup_min  pickup_weekday  \\\n",
       "259437             5  2016-05-31           13           0               1   \n",
       "\n",
       "        dropoff_min  \n",
       "259437            0  "
      ]
     },
     "execution_count": 19,
     "metadata": {},
     "output_type": "execute_result"
    }
   ],
   "source": [
    "#Checking the new maxium\n",
    "df[df['trip_duration'] == df['trip_duration'].max()]"
   ]
  },
  {
   "cell_type": "code",
   "execution_count": 20,
   "id": "3154cd2f",
   "metadata": {},
   "outputs": [
    {
     "data": {
      "text/plain": [
       "Text(0.5, 1.0, 'Overall Monthly trips')"
      ]
     },
     "execution_count": 20,
     "metadata": {},
     "output_type": "execute_result"
    },
    {
     "data": {
      "image/png": "[encoded data removed]",
      "text/plain": [
       "<Figure size 720x504 with 1 Axes>"
      ]
     },
     "metadata": {
      "needs_background": "light"
     },
     "output_type": "display_data"
    }
   ],
   "source": [
    "#monthly exploration of the trips\n",
    "plt.figure(figsize=(10,7))\n",
    "sns.countplot(df['pickup_month'], palette='Accent')\n",
    "plt.xticks([0,1,2,3,4,5], labels=['Jan','Feb','March','April','May','June'], rotation=90)\n",
    "plt.title('Overall Monthly trips')"
   ]
  },
  {
   "cell_type": "markdown",
   "id": "48e13ffd",
   "metadata": {},
   "source": [
    "According to 6 month data. Number of trips in a particular month - March and April marking the highest. January being lowest."
   ]
  },
  {
   "cell_type": "code",
   "execution_count": 21,
   "id": "55fc6627",
   "metadata": {},
   "outputs": [
    {
     "data": {
      "text/plain": [
       "Text(0.5, 1.0, 'Hourly Pickups')"
      ]
     },
     "execution_count": 21,
     "metadata": {},
     "output_type": "execute_result"
    },
    {
     "data": {
      "image/png": "[encoded data removed]",
      "text/plain": [
       "<Figure size 1440x360 with 1 Axes>"
      ]
     },
     "metadata": {
      "needs_background": "light"
     },
     "output_type": "display_data"
    }
   ],
   "source": [
    "#Analysis of hourly pickups\n",
    "plt.figure(figsize=(20,5))\n",
    "pickup_hour = df['pickup_hour'].value_counts()\n",
    "pickup_hour.sort_index().plot(kind='bar', color='gold')\n",
    "plt.title(\"Hourly Pickups\")"
   ]
  },
  {
   "cell_type": "code",
   "execution_count": 22,
   "id": "38ec235e",
   "metadata": {},
   "outputs": [
    {
     "data": {
      "text/plain": [
       "Text(0.5, 1.0, 'Overall Week day Trips')"
      ]
     },
     "execution_count": 22,
     "metadata": {},
     "output_type": "execute_result"
    },
    {
     "data": {
      "image/png": "[encoded data removed]",
      "text/plain": [
       "<Figure size 720x504 with 1 Axes>"
      ]
     },
     "metadata": {
      "needs_background": "light"
     },
     "output_type": "display_data"
    }
   ],
   "source": [
    "#Analysis of week day trips\n",
    "plt.figure(figsize=(10,7))\n",
    "pickup_week = df['pickup_weekday'].value_counts()\n",
    "pickup_week.sort_index().plot(kind='bar', color='Green')\n",
    "plt.xticks(ticks=[0,1,2,3,4,5,6], labels=['Monday', 'Tuesday', 'Wednesday', 'Thursday', 'Friday', 'Saturday', 'Sunday'], rotation=90)\n",
    "plt.title('Overall Week day Trips')"
   ]
  },
  {
   "cell_type": "markdown",
   "id": "5126d1a9",
   "metadata": {},
   "source": [
    "Observations-Fridays and Saturdays have the most number of trips."
   ]
  },
  {
   "cell_type": "code",
   "execution_count": 23,
   "id": "df35bde9",
   "metadata": {},
   "outputs": [
    {
     "data": {
      "text/plain": [
       "Text(0.5, 1.0, 'Daily Trips Plot')"
      ]
     },
     "execution_count": 23,
     "metadata": {},
     "output_type": "execute_result"
    },
    {
     "data": {
      "image/png": "[encoded data removed]",
      "text/plain": [
       "<Figure size 1440x1080 with 1 Axes>"
      ]
     },
     "metadata": {
      "needs_background": "light"
     },
     "output_type": "display_data"
    }
   ],
   "source": [
    "#Analysis of Daily trip\n",
    "plt.figure(figsize=(20,15))\n",
    "df['pickup_day'].value_counts().plot(color=\"black\", marker=\"+\")\n",
    "plt.title('Daily Trips Plot')"
   ]
  },
  {
   "cell_type": "code",
   "execution_count": 24,
   "id": "9a02394a",
   "metadata": {},
   "outputs": [
    {
     "data": {
      "text/plain": [
       "Text(0.5, 1.0, 'Correlation Plot')"
      ]
     },
     "execution_count": 24,
     "metadata": {},
     "output_type": "execute_result"
    },
    {
     "data": {
      "image/png": "[encoded data removed]",
      "text/plain": [
       "<Figure size 1440x720 with 2 Axes>"
      ]
     },
     "metadata": {
      "needs_background": "light"
     },
     "output_type": "display_data"
    }
   ],
   "source": [
    "#Pearson Correlation heatmap\n",
    "plt.figure(figsize=(20,10))\n",
    "sns.heatmap(df.corr()*100, annot=True, cmap='inferno')\n",
    "plt.title('Correlation Plot')"
   ]
  },
  {
   "cell_type": "code",
   "execution_count": 25,
   "id": "b14fbf14",
   "metadata": {},
   "outputs": [
    {
     "data": {
      "text/html": [
       "<div>\n",
       "<style scoped>\n",
       "    .dataframe tbody tr th:only-of-type {\n",
       "        vertical-align: middle;\n",
       "    }\n",
       "\n",
       "    .dataframe tbody tr th {\n",
       "        vertical-align: top;\n",
       "    }\n",
       "\n",
       "    .dataframe thead th {\n",
       "        text-align: right;\n",
       "    }\n",
       "</style>\n",
       "<table border=\"1\" class=\"dataframe\">\n",
       "  <thead>\n",
       "    <tr style=\"text-align: right;\">\n",
       "      <th></th>\n",
       "      <th>vendor_id</th>\n",
       "      <th>passenger_count</th>\n",
       "      <th>pickup_longitude</th>\n",
       "      <th>pickup_latitude</th>\n",
       "      <th>dropoff_longitude</th>\n",
       "      <th>dropoff_latitude</th>\n",
       "      <th>store_and_fwd_flag</th>\n",
       "      <th>trip_duration</th>\n",
       "      <th>pickup_day</th>\n",
       "      <th>pickup_month</th>\n",
       "      <th>pickup_date</th>\n",
       "      <th>pickup_hour</th>\n",
       "      <th>pickup_min</th>\n",
       "      <th>pickup_weekday</th>\n",
       "      <th>dropoff_min</th>\n",
       "    </tr>\n",
       "  </thead>\n",
       "  <tbody>\n",
       "    <tr>\n",
       "      <th>0</th>\n",
       "      <td>2</td>\n",
       "      <td>1</td>\n",
       "      <td>-73.953918</td>\n",
       "      <td>40.778873</td>\n",
       "      <td>-73.963875</td>\n",
       "      <td>40.771164</td>\n",
       "      <td>0</td>\n",
       "      <td>400</td>\n",
       "      <td>29</td>\n",
       "      <td>2</td>\n",
       "      <td>2016-02-29</td>\n",
       "      <td>16</td>\n",
       "      <td>40</td>\n",
       "      <td>0</td>\n",
       "      <td>47</td>\n",
       "    </tr>\n",
       "    <tr>\n",
       "      <th>1</th>\n",
       "      <td>1</td>\n",
       "      <td>2</td>\n",
       "      <td>-73.988312</td>\n",
       "      <td>40.731743</td>\n",
       "      <td>-73.994751</td>\n",
       "      <td>40.694931</td>\n",
       "      <td>0</td>\n",
       "      <td>1100</td>\n",
       "      <td>11</td>\n",
       "      <td>3</td>\n",
       "      <td>2016-03-11</td>\n",
       "      <td>23</td>\n",
       "      <td>35</td>\n",
       "      <td>4</td>\n",
       "      <td>53</td>\n",
       "    </tr>\n",
       "    <tr>\n",
       "      <th>2</th>\n",
       "      <td>2</td>\n",
       "      <td>2</td>\n",
       "      <td>-73.997314</td>\n",
       "      <td>40.721458</td>\n",
       "      <td>-73.948029</td>\n",
       "      <td>40.774918</td>\n",
       "      <td>0</td>\n",
       "      <td>1635</td>\n",
       "      <td>21</td>\n",
       "      <td>2</td>\n",
       "      <td>2016-02-21</td>\n",
       "      <td>17</td>\n",
       "      <td>59</td>\n",
       "      <td>6</td>\n",
       "      <td>26</td>\n",
       "    </tr>\n",
       "    <tr>\n",
       "      <th>3</th>\n",
       "      <td>2</td>\n",
       "      <td>6</td>\n",
       "      <td>-73.961670</td>\n",
       "      <td>40.759720</td>\n",
       "      <td>-73.956779</td>\n",
       "      <td>40.780628</td>\n",
       "      <td>0</td>\n",
       "      <td>1141</td>\n",
       "      <td>5</td>\n",
       "      <td>1</td>\n",
       "      <td>2016-01-05</td>\n",
       "      <td>9</td>\n",
       "      <td>44</td>\n",
       "      <td>1</td>\n",
       "      <td>3</td>\n",
       "    </tr>\n",
       "    <tr>\n",
       "      <th>4</th>\n",
       "      <td>1</td>\n",
       "      <td>1</td>\n",
       "      <td>-74.017120</td>\n",
       "      <td>40.708469</td>\n",
       "      <td>-73.988182</td>\n",
       "      <td>40.740631</td>\n",
       "      <td>0</td>\n",
       "      <td>848</td>\n",
       "      <td>17</td>\n",
       "      <td>2</td>\n",
       "      <td>2016-02-17</td>\n",
       "      <td>6</td>\n",
       "      <td>42</td>\n",
       "      <td>2</td>\n",
       "      <td>56</td>\n",
       "    </tr>\n",
       "  </tbody>\n",
       "</table>\n",
       "</div>"
      ],
      "text/plain": [
       "   vendor_id  passenger_count  pickup_longitude  pickup_latitude  \\\n",
       "0          2                1        -73.953918        40.778873   \n",
       "1          1                2        -73.988312        40.731743   \n",
       "2          2                2        -73.997314        40.721458   \n",
       "3          2                6        -73.961670        40.759720   \n",
       "4          1                1        -74.017120        40.708469   \n",
       "\n",
       "   dropoff_longitude  dropoff_latitude  store_and_fwd_flag  trip_duration  \\\n",
       "0         -73.963875         40.771164                   0            400   \n",
       "1         -73.994751         40.694931                   0           1100   \n",
       "2         -73.948029         40.774918                   0           1635   \n",
       "3         -73.956779         40.780628                   0           1141   \n",
       "4         -73.988182         40.740631                   0            848   \n",
       "\n",
       "   pickup_day  pickup_month pickup_date  pickup_hour  pickup_min  \\\n",
       "0          29             2  2016-02-29           16          40   \n",
       "1          11             3  2016-03-11           23          35   \n",
       "2          21             2  2016-02-21           17          59   \n",
       "3           5             1  2016-01-05            9          44   \n",
       "4          17             2  2016-02-17            6          42   \n",
       "\n",
       "   pickup_weekday  dropoff_min  \n",
       "0               0           47  \n",
       "1               4           53  \n",
       "2               6           26  \n",
       "3               1            3  \n",
       "4               2           56  "
      ]
     },
     "execution_count": 25,
     "metadata": {},
     "output_type": "execute_result"
    }
   ],
   "source": [
    "#dropping unwanted columns\n",
    "nyc_taxi_df = df.drop(['id','pickup_datetime','dropoff_datetime'], axis=1)\n",
    "nyc_taxi_df.head()"
   ]
  },
  {
   "cell_type": "code",
   "execution_count": 26,
   "id": "78daae41",
   "metadata": {},
   "outputs": [],
   "source": [
    "#Predictors Variable and Target Variable\n",
    "X = nyc_taxi_df.drop(['trip_duration'], axis=1)\n",
    "Y = np.log(nyc_taxi_df['trip_duration'])"
   ]
  },
  {
   "cell_type": "code",
   "execution_count": 27,
   "id": "45b79919",
   "metadata": {},
   "outputs": [
    {
     "data": {
      "text/html": [
       "<div>\n",
       "<style scoped>\n",
       "    .dataframe tbody tr th:only-of-type {\n",
       "        vertical-align: middle;\n",
       "    }\n",
       "\n",
       "    .dataframe tbody tr th {\n",
       "        vertical-align: top;\n",
       "    }\n",
       "\n",
       "    .dataframe thead th {\n",
       "        text-align: right;\n",
       "    }\n",
       "</style>\n",
       "<table border=\"1\" class=\"dataframe\">\n",
       "  <thead>\n",
       "    <tr style=\"text-align: right;\">\n",
       "      <th></th>\n",
       "      <th>vendor_id</th>\n",
       "      <th>passenger_count</th>\n",
       "      <th>pickup_longitude</th>\n",
       "      <th>pickup_latitude</th>\n",
       "      <th>dropoff_longitude</th>\n",
       "      <th>dropoff_latitude</th>\n",
       "      <th>store_and_fwd_flag</th>\n",
       "      <th>pickup_day</th>\n",
       "      <th>pickup_month</th>\n",
       "      <th>pickup_date</th>\n",
       "      <th>pickup_hour</th>\n",
       "      <th>pickup_min</th>\n",
       "      <th>pickup_weekday</th>\n",
       "      <th>dropoff_min</th>\n",
       "    </tr>\n",
       "  </thead>\n",
       "  <tbody>\n",
       "    <tr>\n",
       "      <th>0</th>\n",
       "      <td>2</td>\n",
       "      <td>1</td>\n",
       "      <td>-73.953918</td>\n",
       "      <td>40.778873</td>\n",
       "      <td>-73.963875</td>\n",
       "      <td>40.771164</td>\n",
       "      <td>0</td>\n",
       "      <td>29</td>\n",
       "      <td>2</td>\n",
       "      <td>2016-02-29</td>\n",
       "      <td>16</td>\n",
       "      <td>40</td>\n",
       "      <td>0</td>\n",
       "      <td>47</td>\n",
       "    </tr>\n",
       "    <tr>\n",
       "      <th>1</th>\n",
       "      <td>1</td>\n",
       "      <td>2</td>\n",
       "      <td>-73.988312</td>\n",
       "      <td>40.731743</td>\n",
       "      <td>-73.994751</td>\n",
       "      <td>40.694931</td>\n",
       "      <td>0</td>\n",
       "      <td>11</td>\n",
       "      <td>3</td>\n",
       "      <td>2016-03-11</td>\n",
       "      <td>23</td>\n",
       "      <td>35</td>\n",
       "      <td>4</td>\n",
       "      <td>53</td>\n",
       "    </tr>\n",
       "    <tr>\n",
       "      <th>2</th>\n",
       "      <td>2</td>\n",
       "      <td>2</td>\n",
       "      <td>-73.997314</td>\n",
       "      <td>40.721458</td>\n",
       "      <td>-73.948029</td>\n",
       "      <td>40.774918</td>\n",
       "      <td>0</td>\n",
       "      <td>21</td>\n",
       "      <td>2</td>\n",
       "      <td>2016-02-21</td>\n",
       "      <td>17</td>\n",
       "      <td>59</td>\n",
       "      <td>6</td>\n",
       "      <td>26</td>\n",
       "    </tr>\n",
       "    <tr>\n",
       "      <th>3</th>\n",
       "      <td>2</td>\n",
       "      <td>6</td>\n",
       "      <td>-73.961670</td>\n",
       "      <td>40.759720</td>\n",
       "      <td>-73.956779</td>\n",
       "      <td>40.780628</td>\n",
       "      <td>0</td>\n",
       "      <td>5</td>\n",
       "      <td>1</td>\n",
       "      <td>2016-01-05</td>\n",
       "      <td>9</td>\n",
       "      <td>44</td>\n",
       "      <td>1</td>\n",
       "      <td>3</td>\n",
       "    </tr>\n",
       "    <tr>\n",
       "      <th>4</th>\n",
       "      <td>1</td>\n",
       "      <td>1</td>\n",
       "      <td>-74.017120</td>\n",
       "      <td>40.708469</td>\n",
       "      <td>-73.988182</td>\n",
       "      <td>40.740631</td>\n",
       "      <td>0</td>\n",
       "      <td>17</td>\n",
       "      <td>2</td>\n",
       "      <td>2016-02-17</td>\n",
       "      <td>6</td>\n",
       "      <td>42</td>\n",
       "      <td>2</td>\n",
       "      <td>56</td>\n",
       "    </tr>\n",
       "  </tbody>\n",
       "</table>\n",
       "</div>"
      ],
      "text/plain": [
       "   vendor_id  passenger_count  pickup_longitude  pickup_latitude  \\\n",
       "0          2                1        -73.953918        40.778873   \n",
       "1          1                2        -73.988312        40.731743   \n",
       "2          2                2        -73.997314        40.721458   \n",
       "3          2                6        -73.961670        40.759720   \n",
       "4          1                1        -74.017120        40.708469   \n",
       "\n",
       "   dropoff_longitude  dropoff_latitude  store_and_fwd_flag  pickup_day  \\\n",
       "0         -73.963875         40.771164                   0          29   \n",
       "1         -73.994751         40.694931                   0          11   \n",
       "2         -73.948029         40.774918                   0          21   \n",
       "3         -73.956779         40.780628                   0           5   \n",
       "4         -73.988182         40.740631                   0          17   \n",
       "\n",
       "   pickup_month pickup_date  pickup_hour  pickup_min  pickup_weekday  \\\n",
       "0             2  2016-02-29           16          40               0   \n",
       "1             3  2016-03-11           23          35               4   \n",
       "2             2  2016-02-21           17          59               6   \n",
       "3             1  2016-01-05            9          44               1   \n",
       "4             2  2016-02-17            6          42               2   \n",
       "\n",
       "   dropoff_min  \n",
       "0           47  \n",
       "1           53  \n",
       "2           26  \n",
       "3            3  \n",
       "4           56  "
      ]
     },
     "execution_count": 27,
     "metadata": {},
     "output_type": "execute_result"
    }
   ],
   "source": [
    "#check first 5 rows of X\n",
    "X.head()"
   ]
  },
  {
   "cell_type": "code",
   "execution_count": 28,
   "id": "bb727ee5",
   "metadata": {},
   "outputs": [
    {
     "data": {
      "text/html": [
       "<div>\n",
       "<style scoped>\n",
       "    .dataframe tbody tr th:only-of-type {\n",
       "        vertical-align: middle;\n",
       "    }\n",
       "\n",
       "    .dataframe tbody tr th {\n",
       "        vertical-align: top;\n",
       "    }\n",
       "\n",
       "    .dataframe thead th {\n",
       "        text-align: right;\n",
       "    }\n",
       "</style>\n",
       "<table border=\"1\" class=\"dataframe\">\n",
       "  <thead>\n",
       "    <tr style=\"text-align: right;\">\n",
       "      <th></th>\n",
       "      <th>vendor_id</th>\n",
       "      <th>passenger_count</th>\n",
       "      <th>pickup_longitude</th>\n",
       "      <th>pickup_latitude</th>\n",
       "      <th>dropoff_longitude</th>\n",
       "      <th>dropoff_latitude</th>\n",
       "      <th>store_and_fwd_flag</th>\n",
       "      <th>pickup_day</th>\n",
       "      <th>pickup_month</th>\n",
       "      <th>pickup_hour</th>\n",
       "      <th>pickup_min</th>\n",
       "      <th>pickup_weekday</th>\n",
       "      <th>dropoff_min</th>\n",
       "    </tr>\n",
       "  </thead>\n",
       "  <tbody>\n",
       "    <tr>\n",
       "      <th>0</th>\n",
       "      <td>2</td>\n",
       "      <td>1</td>\n",
       "      <td>-73.953918</td>\n",
       "      <td>40.778873</td>\n",
       "      <td>-73.963875</td>\n",
       "      <td>40.771164</td>\n",
       "      <td>0</td>\n",
       "      <td>29</td>\n",
       "      <td>2</td>\n",
       "      <td>16</td>\n",
       "      <td>40</td>\n",
       "      <td>0</td>\n",
       "      <td>47</td>\n",
       "    </tr>\n",
       "    <tr>\n",
       "      <th>1</th>\n",
       "      <td>1</td>\n",
       "      <td>2</td>\n",
       "      <td>-73.988312</td>\n",
       "      <td>40.731743</td>\n",
       "      <td>-73.994751</td>\n",
       "      <td>40.694931</td>\n",
       "      <td>0</td>\n",
       "      <td>11</td>\n",
       "      <td>3</td>\n",
       "      <td>23</td>\n",
       "      <td>35</td>\n",
       "      <td>4</td>\n",
       "      <td>53</td>\n",
       "    </tr>\n",
       "    <tr>\n",
       "      <th>2</th>\n",
       "      <td>2</td>\n",
       "      <td>2</td>\n",
       "      <td>-73.997314</td>\n",
       "      <td>40.721458</td>\n",
       "      <td>-73.948029</td>\n",
       "      <td>40.774918</td>\n",
       "      <td>0</td>\n",
       "      <td>21</td>\n",
       "      <td>2</td>\n",
       "      <td>17</td>\n",
       "      <td>59</td>\n",
       "      <td>6</td>\n",
       "      <td>26</td>\n",
       "    </tr>\n",
       "    <tr>\n",
       "      <th>3</th>\n",
       "      <td>2</td>\n",
       "      <td>6</td>\n",
       "      <td>-73.961670</td>\n",
       "      <td>40.759720</td>\n",
       "      <td>-73.956779</td>\n",
       "      <td>40.780628</td>\n",
       "      <td>0</td>\n",
       "      <td>5</td>\n",
       "      <td>1</td>\n",
       "      <td>9</td>\n",
       "      <td>44</td>\n",
       "      <td>1</td>\n",
       "      <td>3</td>\n",
       "    </tr>\n",
       "    <tr>\n",
       "      <th>4</th>\n",
       "      <td>1</td>\n",
       "      <td>1</td>\n",
       "      <td>-74.017120</td>\n",
       "      <td>40.708469</td>\n",
       "      <td>-73.988182</td>\n",
       "      <td>40.740631</td>\n",
       "      <td>0</td>\n",
       "      <td>17</td>\n",
       "      <td>2</td>\n",
       "      <td>6</td>\n",
       "      <td>42</td>\n",
       "      <td>2</td>\n",
       "      <td>56</td>\n",
       "    </tr>\n",
       "    <tr>\n",
       "      <th>...</th>\n",
       "      <td>...</td>\n",
       "      <td>...</td>\n",
       "      <td>...</td>\n",
       "      <td>...</td>\n",
       "      <td>...</td>\n",
       "      <td>...</td>\n",
       "      <td>...</td>\n",
       "      <td>...</td>\n",
       "      <td>...</td>\n",
       "      <td>...</td>\n",
       "      <td>...</td>\n",
       "      <td>...</td>\n",
       "      <td>...</td>\n",
       "    </tr>\n",
       "    <tr>\n",
       "      <th>729317</th>\n",
       "      <td>2</td>\n",
       "      <td>2</td>\n",
       "      <td>-73.965919</td>\n",
       "      <td>40.789780</td>\n",
       "      <td>-73.952637</td>\n",
       "      <td>40.789181</td>\n",
       "      <td>0</td>\n",
       "      <td>21</td>\n",
       "      <td>5</td>\n",
       "      <td>13</td>\n",
       "      <td>29</td>\n",
       "      <td>5</td>\n",
       "      <td>34</td>\n",
       "    </tr>\n",
       "    <tr>\n",
       "      <th>729318</th>\n",
       "      <td>1</td>\n",
       "      <td>1</td>\n",
       "      <td>-73.996666</td>\n",
       "      <td>40.737434</td>\n",
       "      <td>-74.001320</td>\n",
       "      <td>40.731911</td>\n",
       "      <td>0</td>\n",
       "      <td>22</td>\n",
       "      <td>2</td>\n",
       "      <td>0</td>\n",
       "      <td>43</td>\n",
       "      <td>0</td>\n",
       "      <td>48</td>\n",
       "    </tr>\n",
       "    <tr>\n",
       "      <th>729319</th>\n",
       "      <td>1</td>\n",
       "      <td>1</td>\n",
       "      <td>-73.997849</td>\n",
       "      <td>40.761696</td>\n",
       "      <td>-74.001488</td>\n",
       "      <td>40.741207</td>\n",
       "      <td>0</td>\n",
       "      <td>15</td>\n",
       "      <td>4</td>\n",
       "      <td>18</td>\n",
       "      <td>56</td>\n",
       "      <td>4</td>\n",
       "      <td>8</td>\n",
       "    </tr>\n",
       "    <tr>\n",
       "      <th>729320</th>\n",
       "      <td>1</td>\n",
       "      <td>1</td>\n",
       "      <td>-74.006706</td>\n",
       "      <td>40.708244</td>\n",
       "      <td>-74.013550</td>\n",
       "      <td>40.713814</td>\n",
       "      <td>0</td>\n",
       "      <td>19</td>\n",
       "      <td>6</td>\n",
       "      <td>9</td>\n",
       "      <td>50</td>\n",
       "      <td>6</td>\n",
       "      <td>58</td>\n",
       "    </tr>\n",
       "    <tr>\n",
       "      <th>729321</th>\n",
       "      <td>2</td>\n",
       "      <td>4</td>\n",
       "      <td>-74.003342</td>\n",
       "      <td>40.743839</td>\n",
       "      <td>-73.945847</td>\n",
       "      <td>40.712841</td>\n",
       "      <td>0</td>\n",
       "      <td>1</td>\n",
       "      <td>1</td>\n",
       "      <td>17</td>\n",
       "      <td>24</td>\n",
       "      <td>4</td>\n",
       "      <td>44</td>\n",
       "    </tr>\n",
       "  </tbody>\n",
       "</table>\n",
       "<p>729321 rows × 13 columns</p>\n",
       "</div>"
      ],
      "text/plain": [
       "        vendor_id  passenger_count  pickup_longitude  pickup_latitude  \\\n",
       "0               2                1        -73.953918        40.778873   \n",
       "1               1                2        -73.988312        40.731743   \n",
       "2               2                2        -73.997314        40.721458   \n",
       "3               2                6        -73.961670        40.759720   \n",
       "4               1                1        -74.017120        40.708469   \n",
       "...           ...              ...               ...              ...   \n",
       "729317          2                2        -73.965919        40.789780   \n",
       "729318          1                1        -73.996666        40.737434   \n",
       "729319          1                1        -73.997849        40.761696   \n",
       "729320          1                1        -74.006706        40.708244   \n",
       "729321          2                4        -74.003342        40.743839   \n",
       "\n",
       "        dropoff_longitude  dropoff_latitude  store_and_fwd_flag  pickup_day  \\\n",
       "0              -73.963875         40.771164                   0          29   \n",
       "1              -73.994751         40.694931                   0          11   \n",
       "2              -73.948029         40.774918                   0          21   \n",
       "3              -73.956779         40.780628                   0           5   \n",
       "4              -73.988182         40.740631                   0          17   \n",
       "...                   ...               ...                 ...         ...   \n",
       "729317         -73.952637         40.789181                   0          21   \n",
       "729318         -74.001320         40.731911                   0          22   \n",
       "729319         -74.001488         40.741207                   0          15   \n",
       "729320         -74.013550         40.713814                   0          19   \n",
       "729321         -73.945847         40.712841                   0           1   \n",
       "\n",
       "        pickup_month  pickup_hour  pickup_min  pickup_weekday  dropoff_min  \n",
       "0                  2           16          40               0           47  \n",
       "1                  3           23          35               4           53  \n",
       "2                  2           17          59               6           26  \n",
       "3                  1            9          44               1            3  \n",
       "4                  2            6          42               2           56  \n",
       "...              ...          ...         ...             ...          ...  \n",
       "729317             5           13          29               5           34  \n",
       "729318             2            0          43               0           48  \n",
       "729319             4           18          56               4            8  \n",
       "729320             6            9          50               6           58  \n",
       "729321             1           17          24               4           44  \n",
       "\n",
       "[729321 rows x 13 columns]"
      ]
     },
     "execution_count": 28,
     "metadata": {},
     "output_type": "execute_result"
    }
   ],
   "source": [
    "#Removing the pickup_date column\n",
    "del X['pickup_date']\n",
    "X"
   ]
  },
  {
   "cell_type": "code",
   "execution_count": 29,
   "id": "1ebe18bf",
   "metadata": {},
   "outputs": [
    {
     "data": {
      "text/html": [
       "<div>\n",
       "<style scoped>\n",
       "    .dataframe tbody tr th:only-of-type {\n",
       "        vertical-align: middle;\n",
       "    }\n",
       "\n",
       "    .dataframe tbody tr th {\n",
       "        vertical-align: top;\n",
       "    }\n",
       "\n",
       "    .dataframe thead th {\n",
       "        text-align: right;\n",
       "    }\n",
       "</style>\n",
       "<table border=\"1\" class=\"dataframe\">\n",
       "  <thead>\n",
       "    <tr style=\"text-align: right;\">\n",
       "      <th></th>\n",
       "      <th>vendor_id</th>\n",
       "      <th>passenger_count</th>\n",
       "      <th>pickup_longitude</th>\n",
       "      <th>pickup_latitude</th>\n",
       "      <th>dropoff_longitude</th>\n",
       "      <th>dropoff_latitude</th>\n",
       "      <th>store_and_fwd_flag</th>\n",
       "      <th>pickup_day</th>\n",
       "      <th>pickup_month</th>\n",
       "      <th>pickup_hour</th>\n",
       "      <th>pickup_min</th>\n",
       "      <th>pickup_weekday</th>\n",
       "      <th>dropoff_min</th>\n",
       "    </tr>\n",
       "  </thead>\n",
       "  <tbody>\n",
       "    <tr>\n",
       "      <th>0</th>\n",
       "      <td>0.931531</td>\n",
       "      <td>-0.504444</td>\n",
       "      <td>0.280916</td>\n",
       "      <td>0.832128</td>\n",
       "      <td>0.137199</td>\n",
       "      <td>0.538014</td>\n",
       "      <td>-0.074634</td>\n",
       "      <td>1.551525</td>\n",
       "      <td>-0.903464</td>\n",
       "      <td>0.373004</td>\n",
       "      <td>0.600159</td>\n",
       "      <td>-1.560058</td>\n",
       "      <td>0.997049</td>\n",
       "    </tr>\n",
       "    <tr>\n",
       "      <th>1</th>\n",
       "      <td>-1.073501</td>\n",
       "      <td>0.257492</td>\n",
       "      <td>-0.212153</td>\n",
       "      <td>-0.570823</td>\n",
       "      <td>-0.306500</td>\n",
       "      <td>-1.577380</td>\n",
       "      <td>-0.074634</td>\n",
       "      <td>-0.517497</td>\n",
       "      <td>-0.308459</td>\n",
       "      <td>1.466270</td>\n",
       "      <td>0.311682</td>\n",
       "      <td>0.486534</td>\n",
       "      <td>1.341480</td>\n",
       "    </tr>\n",
       "    <tr>\n",
       "      <th>2</th>\n",
       "      <td>0.931531</td>\n",
       "      <td>0.257492</td>\n",
       "      <td>-0.341218</td>\n",
       "      <td>-0.876963</td>\n",
       "      <td>0.364913</td>\n",
       "      <td>0.642175</td>\n",
       "      <td>-0.074634</td>\n",
       "      <td>0.631959</td>\n",
       "      <td>-0.903464</td>\n",
       "      <td>0.529185</td>\n",
       "      <td>1.696373</td>\n",
       "      <td>1.509831</td>\n",
       "      <td>-0.208457</td>\n",
       "    </tr>\n",
       "    <tr>\n",
       "      <th>3</th>\n",
       "      <td>0.931531</td>\n",
       "      <td>3.305238</td>\n",
       "      <td>0.169789</td>\n",
       "      <td>0.261977</td>\n",
       "      <td>0.239160</td>\n",
       "      <td>0.800639</td>\n",
       "      <td>-0.074634</td>\n",
       "      <td>-1.207171</td>\n",
       "      <td>-1.498469</td>\n",
       "      <td>-0.720262</td>\n",
       "      <td>0.830941</td>\n",
       "      <td>-1.048410</td>\n",
       "      <td>-1.528773</td>\n",
       "    </tr>\n",
       "    <tr>\n",
       "      <th>4</th>\n",
       "      <td>-1.073501</td>\n",
       "      <td>-0.504444</td>\n",
       "      <td>-0.625159</td>\n",
       "      <td>-1.263612</td>\n",
       "      <td>-0.212103</td>\n",
       "      <td>-0.309244</td>\n",
       "      <td>-0.074634</td>\n",
       "      <td>0.172177</td>\n",
       "      <td>-0.903464</td>\n",
       "      <td>-1.188804</td>\n",
       "      <td>0.715550</td>\n",
       "      <td>-0.536762</td>\n",
       "      <td>1.513695</td>\n",
       "    </tr>\n",
       "  </tbody>\n",
       "</table>\n",
       "</div>"
      ],
      "text/plain": [
       "   vendor_id  passenger_count  pickup_longitude  pickup_latitude  \\\n",
       "0   0.931531        -0.504444          0.280916         0.832128   \n",
       "1  -1.073501         0.257492         -0.212153        -0.570823   \n",
       "2   0.931531         0.257492         -0.341218        -0.876963   \n",
       "3   0.931531         3.305238          0.169789         0.261977   \n",
       "4  -1.073501        -0.504444         -0.625159        -1.263612   \n",
       "\n",
       "   dropoff_longitude  dropoff_latitude  store_and_fwd_flag  pickup_day  \\\n",
       "0           0.137199          0.538014           -0.074634    1.551525   \n",
       "1          -0.306500         -1.577380           -0.074634   -0.517497   \n",
       "2           0.364913          0.642175           -0.074634    0.631959   \n",
       "3           0.239160          0.800639           -0.074634   -1.207171   \n",
       "4          -0.212103         -0.309244           -0.074634    0.172177   \n",
       "\n",
       "   pickup_month  pickup_hour  pickup_min  pickup_weekday  dropoff_min  \n",
       "0     -0.903464     0.373004    0.600159       -1.560058     0.997049  \n",
       "1     -0.308459     1.466270    0.311682        0.486534     1.341480  \n",
       "2     -0.903464     0.529185    1.696373        1.509831    -0.208457  \n",
       "3     -1.498469    -0.720262    0.830941       -1.048410    -1.528773  \n",
       "4     -0.903464    -1.188804    0.715550       -0.536762     1.513695  "
      ]
     },
     "execution_count": 29,
     "metadata": {},
     "output_type": "execute_result"
    }
   ],
   "source": [
    "# Normalising Predictors and creating new dataframe\n",
    "from sklearn.preprocessing import StandardScaler\n",
    "cols = X.columns\n",
    "ss = StandardScaler()\n",
    "new_df = ss.fit_transform(X)\n",
    "new_df = pd.DataFrame(new_df, columns=cols)\n",
    "new_df.head()"
   ]
  },
  {
   "cell_type": "markdown",
   "id": "874f55fd",
   "metadata": {},
   "source": [
    "# Linear Regression-Regularization"
   ]
  },
  {
   "cell_type": "code",
   "execution_count": 30,
   "id": "4557aaab",
   "metadata": {},
   "outputs": [
    {
     "data": {
      "text/plain": [
       "((510524, 13), (218797, 13), (510524,), (218797,))"
      ]
     },
     "execution_count": 30,
     "metadata": {},
     "output_type": "execute_result"
    }
   ],
   "source": [
    "#importing train test split & other important metrics\n",
    "from sklearn.model_selection import train_test_split, GridSearchCV, cross_val_score\n",
    "from sklearn.metrics import r2_score, mean_squared_log_error , mean_squared_error\n",
    "from sklearn.linear_model import ridge_regression\n",
    "X_train, X_test, Y_train, Y_test = train_test_split(X, Y, test_size=0.30, random_state=10)\n",
    "X_train.shape, X_test.shape, Y_train.shape, Y_test.shape"
   ]
  },
  {
   "cell_type": "code",
   "execution_count": 31,
   "id": "296c7bc4",
   "metadata": {},
   "outputs": [
    {
     "data": {
      "text/plain": [
       "array([6.60241328, 6.28940689, 6.63826216, ..., 6.34952136, 6.43157002,\n",
       "       6.71107241])"
      ]
     },
     "execution_count": 31,
     "metadata": {},
     "output_type": "execute_result"
    }
   ],
   "source": [
    "#linear regression\n",
    "from sklearn.linear_model import Ridge\n",
    "est_lr = Ridge()\n",
    "est_lr.fit(X_train, Y_train)\n",
    "lr_pred = est_lr.predict(X_test)\n",
    "lr_pred"
   ]
  },
  {
   "cell_type": "code",
   "execution_count": 32,
   "id": "bf3a251d",
   "metadata": {},
   "outputs": [
    {
     "data": {
      "text/plain": [
       "(322.8461953623118,\n",
       " array([ 2.40628281e-02,  9.53882699e-03,  1.19776494e+00, -3.47905386e+00,\n",
       "         2.55269472e-02, -2.06800480e+00,  1.48217377e-01,  8.78450337e-04,\n",
       "         2.23440463e-02,  4.70174895e-03, -3.49093467e-04, -1.22581531e-02,\n",
       "        -8.23557421e-05]))"
      ]
     },
     "execution_count": 32,
     "metadata": {},
     "output_type": "execute_result"
    }
   ],
   "source": [
    "#Intercept & Coef\n",
    "est_lr.intercept_, est_lr.coef_"
   ]
  },
  {
   "cell_type": "code",
   "execution_count": 33,
   "id": "d40c4009",
   "metadata": {},
   "outputs": [],
   "source": [
    "lr_pred[lr_pred<0]=0"
   ]
  },
  {
   "cell_type": "code",
   "execution_count": 34,
   "id": "deb00c35",
   "metadata": {},
   "outputs": [
    {
     "name": "stdout",
     "output_type": "stream",
     "text": [
      "Training Score :  0.04987829803111876\n",
      "Test Score :  0.028501657290273652\n",
      "Cross Validation Score :  -0.03864753197370394\n",
      "R2_Score :  -15.094166075967774\n",
      "RMSLE :  0.11251052838672529\n"
     ]
    }
   ],
   "source": [
    "#Examining metrics\n",
    "print (\"Training Score : \" , est_lr.score(X_train, Y_train))\n",
    "print (\"Test Score : \", est_lr.score(X_test, Y_test))\n",
    "print (\"Cross Validation Score : \" ,cross_val_score(est_lr, X_train, Y_train, cv=5).mean())\n",
    "print (\"R2_Score : \", r2_score(lr_pred, Y_test))\n",
    "print (\"RMSLE : \", np.sqrt(mean_squared_log_error(lr_pred, Y_test)))"
   ]
  },
  {
   "cell_type": "code",
   "execution_count": 35,
   "id": "192d5222",
   "metadata": {},
   "outputs": [],
   "source": [
    "lr_train_score=est_lr.score(X_train, Y_train)\n",
    "lr_test_score=est_lr.score(X_test, Y_test)"
   ]
  },
  {
   "cell_type": "markdown",
   "id": "687034a5",
   "metadata": {},
   "source": [
    "# KNN Model "
   ]
  },
  {
   "cell_type": "markdown",
   "id": "8ac00c61",
   "metadata": {},
   "source": [
    "# Segregating Independent and Dependent Variables"
   ]
  },
  {
   "cell_type": "code",
   "execution_count": 36,
   "id": "5045cc7f",
   "metadata": {},
   "outputs": [],
   "source": [
    "#Predictors and Target Variable\n",
    "X1 = nyc_taxi_df.drop(['trip_duration'], axis=1)\n",
    "Y1 = np.log(nyc_taxi_df['trip_duration'])"
   ]
  },
  {
   "cell_type": "code",
   "execution_count": 37,
   "id": "8fb7088d",
   "metadata": {},
   "outputs": [
    {
     "data": {
      "text/html": [
       "<div>\n",
       "<style scoped>\n",
       "    .dataframe tbody tr th:only-of-type {\n",
       "        vertical-align: middle;\n",
       "    }\n",
       "\n",
       "    .dataframe tbody tr th {\n",
       "        vertical-align: top;\n",
       "    }\n",
       "\n",
       "    .dataframe thead th {\n",
       "        text-align: right;\n",
       "    }\n",
       "</style>\n",
       "<table border=\"1\" class=\"dataframe\">\n",
       "  <thead>\n",
       "    <tr style=\"text-align: right;\">\n",
       "      <th></th>\n",
       "      <th>vendor_id</th>\n",
       "      <th>passenger_count</th>\n",
       "      <th>pickup_longitude</th>\n",
       "      <th>pickup_latitude</th>\n",
       "      <th>dropoff_longitude</th>\n",
       "      <th>dropoff_latitude</th>\n",
       "      <th>store_and_fwd_flag</th>\n",
       "      <th>pickup_day</th>\n",
       "      <th>pickup_month</th>\n",
       "      <th>pickup_date</th>\n",
       "      <th>pickup_hour</th>\n",
       "      <th>pickup_min</th>\n",
       "      <th>pickup_weekday</th>\n",
       "      <th>dropoff_min</th>\n",
       "    </tr>\n",
       "  </thead>\n",
       "  <tbody>\n",
       "    <tr>\n",
       "      <th>0</th>\n",
       "      <td>2</td>\n",
       "      <td>1</td>\n",
       "      <td>-73.953918</td>\n",
       "      <td>40.778873</td>\n",
       "      <td>-73.963875</td>\n",
       "      <td>40.771164</td>\n",
       "      <td>0</td>\n",
       "      <td>29</td>\n",
       "      <td>2</td>\n",
       "      <td>2016-02-29</td>\n",
       "      <td>16</td>\n",
       "      <td>40</td>\n",
       "      <td>0</td>\n",
       "      <td>47</td>\n",
       "    </tr>\n",
       "    <tr>\n",
       "      <th>1</th>\n",
       "      <td>1</td>\n",
       "      <td>2</td>\n",
       "      <td>-73.988312</td>\n",
       "      <td>40.731743</td>\n",
       "      <td>-73.994751</td>\n",
       "      <td>40.694931</td>\n",
       "      <td>0</td>\n",
       "      <td>11</td>\n",
       "      <td>3</td>\n",
       "      <td>2016-03-11</td>\n",
       "      <td>23</td>\n",
       "      <td>35</td>\n",
       "      <td>4</td>\n",
       "      <td>53</td>\n",
       "    </tr>\n",
       "    <tr>\n",
       "      <th>2</th>\n",
       "      <td>2</td>\n",
       "      <td>2</td>\n",
       "      <td>-73.997314</td>\n",
       "      <td>40.721458</td>\n",
       "      <td>-73.948029</td>\n",
       "      <td>40.774918</td>\n",
       "      <td>0</td>\n",
       "      <td>21</td>\n",
       "      <td>2</td>\n",
       "      <td>2016-02-21</td>\n",
       "      <td>17</td>\n",
       "      <td>59</td>\n",
       "      <td>6</td>\n",
       "      <td>26</td>\n",
       "    </tr>\n",
       "    <tr>\n",
       "      <th>3</th>\n",
       "      <td>2</td>\n",
       "      <td>6</td>\n",
       "      <td>-73.961670</td>\n",
       "      <td>40.759720</td>\n",
       "      <td>-73.956779</td>\n",
       "      <td>40.780628</td>\n",
       "      <td>0</td>\n",
       "      <td>5</td>\n",
       "      <td>1</td>\n",
       "      <td>2016-01-05</td>\n",
       "      <td>9</td>\n",
       "      <td>44</td>\n",
       "      <td>1</td>\n",
       "      <td>3</td>\n",
       "    </tr>\n",
       "    <tr>\n",
       "      <th>4</th>\n",
       "      <td>1</td>\n",
       "      <td>1</td>\n",
       "      <td>-74.017120</td>\n",
       "      <td>40.708469</td>\n",
       "      <td>-73.988182</td>\n",
       "      <td>40.740631</td>\n",
       "      <td>0</td>\n",
       "      <td>17</td>\n",
       "      <td>2</td>\n",
       "      <td>2016-02-17</td>\n",
       "      <td>6</td>\n",
       "      <td>42</td>\n",
       "      <td>2</td>\n",
       "      <td>56</td>\n",
       "    </tr>\n",
       "  </tbody>\n",
       "</table>\n",
       "</div>"
      ],
      "text/plain": [
       "   vendor_id  passenger_count  pickup_longitude  pickup_latitude  \\\n",
       "0          2                1        -73.953918        40.778873   \n",
       "1          1                2        -73.988312        40.731743   \n",
       "2          2                2        -73.997314        40.721458   \n",
       "3          2                6        -73.961670        40.759720   \n",
       "4          1                1        -74.017120        40.708469   \n",
       "\n",
       "   dropoff_longitude  dropoff_latitude  store_and_fwd_flag  pickup_day  \\\n",
       "0         -73.963875         40.771164                   0          29   \n",
       "1         -73.994751         40.694931                   0          11   \n",
       "2         -73.948029         40.774918                   0          21   \n",
       "3         -73.956779         40.780628                   0           5   \n",
       "4         -73.988182         40.740631                   0          17   \n",
       "\n",
       "   pickup_month pickup_date  pickup_hour  pickup_min  pickup_weekday  \\\n",
       "0             2  2016-02-29           16          40               0   \n",
       "1             3  2016-03-11           23          35               4   \n",
       "2             2  2016-02-21           17          59               6   \n",
       "3             1  2016-01-05            9          44               1   \n",
       "4             2  2016-02-17            6          42               2   \n",
       "\n",
       "   dropoff_min  \n",
       "0           47  \n",
       "1           53  \n",
       "2           26  \n",
       "3            3  \n",
       "4           56  "
      ]
     },
     "execution_count": 37,
     "metadata": {},
     "output_type": "execute_result"
    }
   ],
   "source": [
    "X1.head()"
   ]
  },
  {
   "cell_type": "code",
   "execution_count": 38,
   "id": "b3331203",
   "metadata": {},
   "outputs": [
    {
     "data": {
      "text/html": [
       "<div>\n",
       "<style scoped>\n",
       "    .dataframe tbody tr th:only-of-type {\n",
       "        vertical-align: middle;\n",
       "    }\n",
       "\n",
       "    .dataframe tbody tr th {\n",
       "        vertical-align: top;\n",
       "    }\n",
       "\n",
       "    .dataframe thead th {\n",
       "        text-align: right;\n",
       "    }\n",
       "</style>\n",
       "<table border=\"1\" class=\"dataframe\">\n",
       "  <thead>\n",
       "    <tr style=\"text-align: right;\">\n",
       "      <th></th>\n",
       "      <th>vendor_id</th>\n",
       "      <th>passenger_count</th>\n",
       "      <th>pickup_longitude</th>\n",
       "      <th>pickup_latitude</th>\n",
       "      <th>dropoff_longitude</th>\n",
       "      <th>dropoff_latitude</th>\n",
       "      <th>store_and_fwd_flag</th>\n",
       "      <th>pickup_day</th>\n",
       "      <th>pickup_month</th>\n",
       "      <th>pickup_hour</th>\n",
       "      <th>pickup_min</th>\n",
       "      <th>pickup_weekday</th>\n",
       "      <th>dropoff_min</th>\n",
       "    </tr>\n",
       "  </thead>\n",
       "  <tbody>\n",
       "    <tr>\n",
       "      <th>0</th>\n",
       "      <td>2</td>\n",
       "      <td>1</td>\n",
       "      <td>-73.953918</td>\n",
       "      <td>40.778873</td>\n",
       "      <td>-73.963875</td>\n",
       "      <td>40.771164</td>\n",
       "      <td>0</td>\n",
       "      <td>29</td>\n",
       "      <td>2</td>\n",
       "      <td>16</td>\n",
       "      <td>40</td>\n",
       "      <td>0</td>\n",
       "      <td>47</td>\n",
       "    </tr>\n",
       "    <tr>\n",
       "      <th>1</th>\n",
       "      <td>1</td>\n",
       "      <td>2</td>\n",
       "      <td>-73.988312</td>\n",
       "      <td>40.731743</td>\n",
       "      <td>-73.994751</td>\n",
       "      <td>40.694931</td>\n",
       "      <td>0</td>\n",
       "      <td>11</td>\n",
       "      <td>3</td>\n",
       "      <td>23</td>\n",
       "      <td>35</td>\n",
       "      <td>4</td>\n",
       "      <td>53</td>\n",
       "    </tr>\n",
       "    <tr>\n",
       "      <th>2</th>\n",
       "      <td>2</td>\n",
       "      <td>2</td>\n",
       "      <td>-73.997314</td>\n",
       "      <td>40.721458</td>\n",
       "      <td>-73.948029</td>\n",
       "      <td>40.774918</td>\n",
       "      <td>0</td>\n",
       "      <td>21</td>\n",
       "      <td>2</td>\n",
       "      <td>17</td>\n",
       "      <td>59</td>\n",
       "      <td>6</td>\n",
       "      <td>26</td>\n",
       "    </tr>\n",
       "    <tr>\n",
       "      <th>3</th>\n",
       "      <td>2</td>\n",
       "      <td>6</td>\n",
       "      <td>-73.961670</td>\n",
       "      <td>40.759720</td>\n",
       "      <td>-73.956779</td>\n",
       "      <td>40.780628</td>\n",
       "      <td>0</td>\n",
       "      <td>5</td>\n",
       "      <td>1</td>\n",
       "      <td>9</td>\n",
       "      <td>44</td>\n",
       "      <td>1</td>\n",
       "      <td>3</td>\n",
       "    </tr>\n",
       "    <tr>\n",
       "      <th>4</th>\n",
       "      <td>1</td>\n",
       "      <td>1</td>\n",
       "      <td>-74.017120</td>\n",
       "      <td>40.708469</td>\n",
       "      <td>-73.988182</td>\n",
       "      <td>40.740631</td>\n",
       "      <td>0</td>\n",
       "      <td>17</td>\n",
       "      <td>2</td>\n",
       "      <td>6</td>\n",
       "      <td>42</td>\n",
       "      <td>2</td>\n",
       "      <td>56</td>\n",
       "    </tr>\n",
       "    <tr>\n",
       "      <th>...</th>\n",
       "      <td>...</td>\n",
       "      <td>...</td>\n",
       "      <td>...</td>\n",
       "      <td>...</td>\n",
       "      <td>...</td>\n",
       "      <td>...</td>\n",
       "      <td>...</td>\n",
       "      <td>...</td>\n",
       "      <td>...</td>\n",
       "      <td>...</td>\n",
       "      <td>...</td>\n",
       "      <td>...</td>\n",
       "      <td>...</td>\n",
       "    </tr>\n",
       "    <tr>\n",
       "      <th>729317</th>\n",
       "      <td>2</td>\n",
       "      <td>2</td>\n",
       "      <td>-73.965919</td>\n",
       "      <td>40.789780</td>\n",
       "      <td>-73.952637</td>\n",
       "      <td>40.789181</td>\n",
       "      <td>0</td>\n",
       "      <td>21</td>\n",
       "      <td>5</td>\n",
       "      <td>13</td>\n",
       "      <td>29</td>\n",
       "      <td>5</td>\n",
       "      <td>34</td>\n",
       "    </tr>\n",
       "    <tr>\n",
       "      <th>729318</th>\n",
       "      <td>1</td>\n",
       "      <td>1</td>\n",
       "      <td>-73.996666</td>\n",
       "      <td>40.737434</td>\n",
       "      <td>-74.001320</td>\n",
       "      <td>40.731911</td>\n",
       "      <td>0</td>\n",
       "      <td>22</td>\n",
       "      <td>2</td>\n",
       "      <td>0</td>\n",
       "      <td>43</td>\n",
       "      <td>0</td>\n",
       "      <td>48</td>\n",
       "    </tr>\n",
       "    <tr>\n",
       "      <th>729319</th>\n",
       "      <td>1</td>\n",
       "      <td>1</td>\n",
       "      <td>-73.997849</td>\n",
       "      <td>40.761696</td>\n",
       "      <td>-74.001488</td>\n",
       "      <td>40.741207</td>\n",
       "      <td>0</td>\n",
       "      <td>15</td>\n",
       "      <td>4</td>\n",
       "      <td>18</td>\n",
       "      <td>56</td>\n",
       "      <td>4</td>\n",
       "      <td>8</td>\n",
       "    </tr>\n",
       "    <tr>\n",
       "      <th>729320</th>\n",
       "      <td>1</td>\n",
       "      <td>1</td>\n",
       "      <td>-74.006706</td>\n",
       "      <td>40.708244</td>\n",
       "      <td>-74.013550</td>\n",
       "      <td>40.713814</td>\n",
       "      <td>0</td>\n",
       "      <td>19</td>\n",
       "      <td>6</td>\n",
       "      <td>9</td>\n",
       "      <td>50</td>\n",
       "      <td>6</td>\n",
       "      <td>58</td>\n",
       "    </tr>\n",
       "    <tr>\n",
       "      <th>729321</th>\n",
       "      <td>2</td>\n",
       "      <td>4</td>\n",
       "      <td>-74.003342</td>\n",
       "      <td>40.743839</td>\n",
       "      <td>-73.945847</td>\n",
       "      <td>40.712841</td>\n",
       "      <td>0</td>\n",
       "      <td>1</td>\n",
       "      <td>1</td>\n",
       "      <td>17</td>\n",
       "      <td>24</td>\n",
       "      <td>4</td>\n",
       "      <td>44</td>\n",
       "    </tr>\n",
       "  </tbody>\n",
       "</table>\n",
       "<p>729321 rows × 13 columns</p>\n",
       "</div>"
      ],
      "text/plain": [
       "        vendor_id  passenger_count  pickup_longitude  pickup_latitude  \\\n",
       "0               2                1        -73.953918        40.778873   \n",
       "1               1                2        -73.988312        40.731743   \n",
       "2               2                2        -73.997314        40.721458   \n",
       "3               2                6        -73.961670        40.759720   \n",
       "4               1                1        -74.017120        40.708469   \n",
       "...           ...              ...               ...              ...   \n",
       "729317          2                2        -73.965919        40.789780   \n",
       "729318          1                1        -73.996666        40.737434   \n",
       "729319          1                1        -73.997849        40.761696   \n",
       "729320          1                1        -74.006706        40.708244   \n",
       "729321          2                4        -74.003342        40.743839   \n",
       "\n",
       "        dropoff_longitude  dropoff_latitude  store_and_fwd_flag  pickup_day  \\\n",
       "0              -73.963875         40.771164                   0          29   \n",
       "1              -73.994751         40.694931                   0          11   \n",
       "2              -73.948029         40.774918                   0          21   \n",
       "3              -73.956779         40.780628                   0           5   \n",
       "4              -73.988182         40.740631                   0          17   \n",
       "...                   ...               ...                 ...         ...   \n",
       "729317         -73.952637         40.789181                   0          21   \n",
       "729318         -74.001320         40.731911                   0          22   \n",
       "729319         -74.001488         40.741207                   0          15   \n",
       "729320         -74.013550         40.713814                   0          19   \n",
       "729321         -73.945847         40.712841                   0           1   \n",
       "\n",
       "        pickup_month  pickup_hour  pickup_min  pickup_weekday  dropoff_min  \n",
       "0                  2           16          40               0           47  \n",
       "1                  3           23          35               4           53  \n",
       "2                  2           17          59               6           26  \n",
       "3                  1            9          44               1            3  \n",
       "4                  2            6          42               2           56  \n",
       "...              ...          ...         ...             ...          ...  \n",
       "729317             5           13          29               5           34  \n",
       "729318             2            0          43               0           48  \n",
       "729319             4           18          56               4            8  \n",
       "729320             6            9          50               6           58  \n",
       "729321             1           17          24               4           44  \n",
       "\n",
       "[729321 rows x 13 columns]"
      ]
     },
     "execution_count": 38,
     "metadata": {},
     "output_type": "execute_result"
    }
   ],
   "source": [
    "del X1['pickup_date']\n",
    "X1"
   ]
  },
  {
   "cell_type": "markdown",
   "id": "7c6bc275",
   "metadata": {},
   "source": [
    "# Scaling the date"
   ]
  },
  {
   "cell_type": "code",
   "execution_count": 39,
   "id": "82ccb03c",
   "metadata": {},
   "outputs": [],
   "source": [
    "#Importing MinMaxScaler\n",
    "from sklearn.preprocessing import MinMaxScaler\n",
    "scaler= MinMaxScaler()\n",
    "x_scaled=scaler.fit_transform(X1)"
   ]
  },
  {
   "cell_type": "code",
   "execution_count": 40,
   "id": "938ab0fd",
   "metadata": {},
   "outputs": [],
   "source": [
    "X1=pd.DataFrame(x_scaled,columns=X1.columns)"
   ]
  },
  {
   "cell_type": "code",
   "execution_count": 41,
   "id": "f32c7606",
   "metadata": {},
   "outputs": [
    {
     "data": {
      "text/html": [
       "<div>\n",
       "<style scoped>\n",
       "    .dataframe tbody tr th:only-of-type {\n",
       "        vertical-align: middle;\n",
       "    }\n",
       "\n",
       "    .dataframe tbody tr th {\n",
       "        vertical-align: top;\n",
       "    }\n",
       "\n",
       "    .dataframe thead th {\n",
       "        text-align: right;\n",
       "    }\n",
       "</style>\n",
       "<table border=\"1\" class=\"dataframe\">\n",
       "  <thead>\n",
       "    <tr style=\"text-align: right;\">\n",
       "      <th></th>\n",
       "      <th>vendor_id</th>\n",
       "      <th>passenger_count</th>\n",
       "      <th>pickup_longitude</th>\n",
       "      <th>pickup_latitude</th>\n",
       "      <th>dropoff_longitude</th>\n",
       "      <th>dropoff_latitude</th>\n",
       "      <th>store_and_fwd_flag</th>\n",
       "      <th>pickup_day</th>\n",
       "      <th>pickup_month</th>\n",
       "      <th>pickup_hour</th>\n",
       "      <th>pickup_min</th>\n",
       "      <th>pickup_weekday</th>\n",
       "      <th>dropoff_min</th>\n",
       "    </tr>\n",
       "  </thead>\n",
       "  <tbody>\n",
       "    <tr>\n",
       "      <th>0</th>\n",
       "      <td>1.0</td>\n",
       "      <td>0.111111</td>\n",
       "      <td>0.856226</td>\n",
       "      <td>0.353352</td>\n",
       "      <td>0.856048</td>\n",
       "      <td>0.731696</td>\n",
       "      <td>0.0</td>\n",
       "      <td>0.933333</td>\n",
       "      <td>0.2</td>\n",
       "      <td>0.695652</td>\n",
       "      <td>0.677966</td>\n",
       "      <td>0.000000</td>\n",
       "      <td>0.796610</td>\n",
       "    </tr>\n",
       "    <tr>\n",
       "      <th>1</th>\n",
       "      <td>0.0</td>\n",
       "      <td>0.222222</td>\n",
       "      <td>0.855612</td>\n",
       "      <td>0.350606</td>\n",
       "      <td>0.855497</td>\n",
       "      <td>0.725202</td>\n",
       "      <td>0.0</td>\n",
       "      <td>0.333333</td>\n",
       "      <td>0.4</td>\n",
       "      <td>1.000000</td>\n",
       "      <td>0.593220</td>\n",
       "      <td>0.666667</td>\n",
       "      <td>0.898305</td>\n",
       "    </tr>\n",
       "    <tr>\n",
       "      <th>2</th>\n",
       "      <td>1.0</td>\n",
       "      <td>0.222222</td>\n",
       "      <td>0.855451</td>\n",
       "      <td>0.350007</td>\n",
       "      <td>0.856331</td>\n",
       "      <td>0.732015</td>\n",
       "      <td>0.0</td>\n",
       "      <td>0.666667</td>\n",
       "      <td>0.2</td>\n",
       "      <td>0.739130</td>\n",
       "      <td>1.000000</td>\n",
       "      <td>1.000000</td>\n",
       "      <td>0.440678</td>\n",
       "    </tr>\n",
       "    <tr>\n",
       "      <th>3</th>\n",
       "      <td>1.0</td>\n",
       "      <td>0.666667</td>\n",
       "      <td>0.856087</td>\n",
       "      <td>0.352236</td>\n",
       "      <td>0.856174</td>\n",
       "      <td>0.732502</td>\n",
       "      <td>0.0</td>\n",
       "      <td>0.133333</td>\n",
       "      <td>0.0</td>\n",
       "      <td>0.391304</td>\n",
       "      <td>0.745763</td>\n",
       "      <td>0.166667</td>\n",
       "      <td>0.050847</td>\n",
       "    </tr>\n",
       "    <tr>\n",
       "      <th>4</th>\n",
       "      <td>0.0</td>\n",
       "      <td>0.111111</td>\n",
       "      <td>0.855098</td>\n",
       "      <td>0.349251</td>\n",
       "      <td>0.855614</td>\n",
       "      <td>0.729095</td>\n",
       "      <td>0.0</td>\n",
       "      <td>0.533333</td>\n",
       "      <td>0.2</td>\n",
       "      <td>0.260870</td>\n",
       "      <td>0.711864</td>\n",
       "      <td>0.333333</td>\n",
       "      <td>0.949153</td>\n",
       "    </tr>\n",
       "  </tbody>\n",
       "</table>\n",
       "</div>"
      ],
      "text/plain": [
       "   vendor_id  passenger_count  pickup_longitude  pickup_latitude  \\\n",
       "0        1.0         0.111111          0.856226         0.353352   \n",
       "1        0.0         0.222222          0.855612         0.350606   \n",
       "2        1.0         0.222222          0.855451         0.350007   \n",
       "3        1.0         0.666667          0.856087         0.352236   \n",
       "4        0.0         0.111111          0.855098         0.349251   \n",
       "\n",
       "   dropoff_longitude  dropoff_latitude  store_and_fwd_flag  pickup_day  \\\n",
       "0           0.856048          0.731696                 0.0    0.933333   \n",
       "1           0.855497          0.725202                 0.0    0.333333   \n",
       "2           0.856331          0.732015                 0.0    0.666667   \n",
       "3           0.856174          0.732502                 0.0    0.133333   \n",
       "4           0.855614          0.729095                 0.0    0.533333   \n",
       "\n",
       "   pickup_month  pickup_hour  pickup_min  pickup_weekday  dropoff_min  \n",
       "0           0.2     0.695652    0.677966        0.000000     0.796610  \n",
       "1           0.4     1.000000    0.593220        0.666667     0.898305  \n",
       "2           0.2     0.739130    1.000000        1.000000     0.440678  \n",
       "3           0.0     0.391304    0.745763        0.166667     0.050847  \n",
       "4           0.2     0.260870    0.711864        0.333333     0.949153  "
      ]
     },
     "execution_count": 41,
     "metadata": {},
     "output_type": "execute_result"
    }
   ],
   "source": [
    "X1.head()"
   ]
  },
  {
   "cell_type": "code",
   "execution_count": 42,
   "id": "a01eb67c",
   "metadata": {},
   "outputs": [],
   "source": [
    "#Importing train test split function\n",
    "from sklearn.model_selection import train_test_split\n",
    "X1_train,X1_test,Y1_train,Y1_test=train_test_split(X1,Y1,random_state=56)"
   ]
  },
  {
   "cell_type": "code",
   "execution_count": 43,
   "id": "7187358a",
   "metadata": {},
   "outputs": [],
   "source": [
    "#Importing KNN and mse metric\n",
    "from sklearn.neighbors import KNeighborsRegressor as KNN\n",
    "from sklearn.metrics import mean_squared_error as mse"
   ]
  },
  {
   "cell_type": "code",
   "execution_count": 44,
   "id": "08f21f7f",
   "metadata": {},
   "outputs": [
    {
     "name": "stdout",
     "output_type": "stream",
     "text": [
      "Test MSE  0.2448607845751628\n"
     ]
    }
   ],
   "source": [
    "#Creating instance of KNN\n",
    "est_knn= KNN(n_neighbors=8)\n",
    "#Fitting the model\n",
    "est_knn.fit(X1_train,Y1_train)\n",
    "#Predicting over train set and calculating MSE\n",
    "knn_predict=est_knn.predict(X1_test)\n",
    "k=mse(knn_predict,Y1_test)\n",
    "print('Test MSE ',k)"
   ]
  },
  {
   "cell_type": "code",
   "execution_count": 45,
   "id": "cf94b7d1",
   "metadata": {},
   "outputs": [],
   "source": [
    "def Elbow(K):\n",
    "    #initiating empty list\n",
    "    test_mse=[]\n",
    " \n",
    "    for i in K:\n",
    "        #Instance of knn\n",
    "        est_knn=KNN(n_neighbors=i)\n",
    "        est_knn.fit(X1_train,Y1_train)\n",
    "        #Appending mse value to the empty list calculated using the predictions\n",
    "        tmp=est_knn.predict(X1_test)\n",
    "        tmp=mse(tmp,Y1_test)\n",
    "        test_mse.append(tmp)\n",
    "    return test_mse"
   ]
  },
  {
   "cell_type": "code",
   "execution_count": 46,
   "id": "12783bd4",
   "metadata": {},
   "outputs": [],
   "source": [
    "#Defining K range\n",
    "k=range(1,10)"
   ]
  },
  {
   "cell_type": "code",
   "execution_count": null,
   "id": "da738f03",
   "metadata": {},
   "outputs": [],
   "source": [
    "#Calling above defined function\n",
    "test=Elbow(k)"
   ]
  },
  {
   "cell_type": "code",
   "execution_count": null,
   "id": "68d65dca",
   "metadata": {},
   "outputs": [],
   "source": [
    "#Plotting the curves\n",
    "plt.plot(k,test)\n",
    "plt.xlabel('K Neighbors')\n",
    "plt.ylabel('Test mean squared error')\n",
    "plt.title('Elbow curve')"
   ]
  },
  {
   "cell_type": "markdown",
   "id": "856fad11",
   "metadata": {},
   "source": [
    "Minimum error is approximately near 5\n",
    "Best value of K is 5"
   ]
  },
  {
   "cell_type": "code",
   "execution_count": null,
   "id": "2b2ff5cc",
   "metadata": {},
   "outputs": [],
   "source": [
    "#Creating instance of KNN\n",
    "est_knn= KNN(n_neighbors=5)\n",
    "#Fitting the model\n",
    "est_knn.fit(X2_train,Y2_train)\n",
    "#Predicting over train set and calculating F1\n",
    "knn_predict=est_knn.predict(X2_test)\n",
    "k=mse(knn_predict,Y2_test)\n",
    "print('Test MSE ',k)"
   ]
  },
  {
   "cell_type": "code",
   "execution_count": null,
   "id": "efbf47c4",
   "metadata": {},
   "outputs": [],
   "source": [
    "est_knn.score(X2_train,Y2_train)"
   ]
  },
  {
   "cell_type": "code",
   "execution_count": null,
   "id": "24295494",
   "metadata": {},
   "outputs": [],
   "source": [
    "est_knn.score(X2_test,Y2_test)"
   ]
  },
  {
   "cell_type": "code",
   "execution_count": null,
   "id": "c776fda7",
   "metadata": {},
   "outputs": [],
   "source": [
    "print (\"Training Score : \" , est_knn.score(X2_train,Y2_train))\n",
    "print (\"Test Score : \", est_knn.score(X2_test,Y2_test))\n",
    "print (\"Cross Validation Score : \" , cross_val_score(est_knn, X2_train,Y2_train, cv=5).mean())\n",
    "print (\"R2_Score : \", r2_score(knn_predict, Y2_test))\n",
    "print (\"RMSLE : \", np.sqrt(mean_squared_log_error(knn_predict, Y2_test)))"
   ]
  },
  {
   "cell_type": "markdown",
   "id": "ec62f2d9",
   "metadata": {},
   "source": [
    "# Decision Tree"
   ]
  },
  {
   "cell_type": "code",
   "execution_count": null,
   "id": "3b86ebe9",
   "metadata": {},
   "outputs": [],
   "source": [
    "#Predictors and Target Variable\n",
    "X2 = nyc_taxi_df.drop(['trip_duration'], axis=1)\n",
    "Y2 = np.log(nyc_taxi_df['trip_duration'])"
   ]
  },
  {
   "cell_type": "code",
   "execution_count": null,
   "id": "345b98a9",
   "metadata": {},
   "outputs": [],
   "source": [
    "#Importing train test split function\n",
    "from sklearn.model_selection import train_test_split\n",
    "X2_train,X2_test,Y2_train,Y2_test=train_test_split(X2,Y2,random_state=56)"
   ]
  },
  {
   "cell_type": "code",
   "execution_count": null,
   "id": "71b5e2c2",
   "metadata": {},
   "outputs": [],
   "source": [
    "X2.head()"
   ]
  },
  {
   "cell_type": "code",
   "execution_count": null,
   "id": "f53b8954",
   "metadata": {},
   "outputs": [],
   "source": [
    "del X2['pickup_date']\n",
    "X2"
   ]
  },
  {
   "cell_type": "code",
   "execution_count": null,
   "id": "f7634f3f",
   "metadata": {},
   "outputs": [],
   "source": [
    "X2_test"
   ]
  },
  {
   "cell_type": "code",
   "execution_count": null,
   "id": "291f8981",
   "metadata": {},
   "outputs": [],
   "source": [
    "del X2_test['pickup_date']\n",
    "X2_test"
   ]
  },
  {
   "cell_type": "code",
   "execution_count": null,
   "id": "3ea47501",
   "metadata": {},
   "outputs": [],
   "source": [
    "X2_train.head()"
   ]
  },
  {
   "cell_type": "code",
   "execution_count": null,
   "id": "cf7a7c05",
   "metadata": {},
   "outputs": [],
   "source": [
    "del X2_train['pickup_date']\n",
    "X2_train"
   ]
  },
  {
   "cell_type": "code",
   "execution_count": null,
   "id": "9ebf18dc",
   "metadata": {},
   "outputs": [],
   "source": [
    "#implementation of decision tree\n",
    "from sklearn.tree import DecisionTreeRegressor\n",
    "est_dt = DecisionTreeRegressor(criterion=\"mse\", max_depth=10)\n",
    "est_dt.fit(X2_train, Y2_train)\n",
    "dt_pred = est_dt.predict(X3_test)\n",
    "dt_pred"
   ]
  },
  {
   "cell_type": "code",
   "execution_count": null,
   "id": "957b98bc",
   "metadata": {},
   "outputs": [],
   "source": [
    "#examining metrics\n",
    "print (\"Training Score : \" , est_dt.score(X2_train, Y2_train))\n",
    "print (\"Test Score : \", est_dt.score(X2_test, Y2_test))\n",
    "print (\"Cross Validation Score : \" , cross_val_score(est_dt, X2_train, Y2_train, cv=5).mean())\n",
    "print (\"R2_Score : \", r2_score(dt_pred, Y2_test))\n",
    "print (\"RMSLE : \", np.sqrt(mean_squared_log_error(dt_pred, Y2_test)))"
   ]
  },
  {
   "cell_type": "markdown",
   "id": "311fd731",
   "metadata": {},
   "source": [
    "# Training scores of all the models "
   ]
  },
  {
   "cell_type": "code",
   "execution_count": null,
   "id": "a0a6d074",
   "metadata": {},
   "outputs": [],
   "source": [
    "plt.figure(figsize=(10,7))\n",
    "Training_score = pd.DataFrame({'Scores':np.array([est_lr.score(X_train, Y_train),est_knn.score(X1_train, Y1_train),est_dt.score(X2_train, Y2_train) ]), 'Model':np.arr\n",
    "Training_score.set_index('Model').plot(kind=\"bar\", color=\"brown\")\n",
    "plt.axhline(y=0, color='g')\n",
    "plt.title(\"Training Scores\")"
   ]
  },
  {
   "cell_type": "markdown",
   "id": "73a14776",
   "metadata": {},
   "source": [
    "# Test Scores of all the models"
   ]
  },
  {
   "cell_type": "code",
   "execution_count": null,
   "id": "fb107c2e",
   "metadata": {},
   "outputs": [],
   "source": [
    "plt.figure(figsize=(10,7))\n",
    "Test_score = pd.DataFrame({'Scores':np.array([est_lr.score(X_test, Y_test),est_knn.score(X1_test, Y1_test),est_dt.score(X2_test, Y2_test)]), 'Model':np.array(['Linear \n",
    "Test_score.set_index('Model').plot(kind=\"bar\", color=\"brown\")\n",
    "plt.axhline(y=0, color='g')\n",
    "plt.title(\"Test Scores\")"
   ]
  },
  {
   "cell_type": "markdown",
   "id": "97464ee6",
   "metadata": {},
   "source": [
    "# R2 scores of all th models"
   ]
  },
  {
   "cell_type": "code",
   "execution_count": null,
   "id": "3f5566a6",
   "metadata": {},
   "outputs": [],
   "source": [
    "#r2 score plot for all the models\n",
    "plt.figure(figsize=(10,7))\n",
    "r2 = pd.DataFrame({'Scores':np.array([r2_score(lr_pred, Y1_test),r2_score(knn_predict,Y2_test),r2_score(dt_pred, Y3_test)]), 'Model':np.array(['Linear Regression','KNN'\n",
    "r2.set_index('Model').plot(kind=\"bar\", color=\"brown\")\n",
    "plt.axhline(y=0, color='g')\n",
    "plt.title(\"R2 Scores\")"
   ]
  },
  {
   "cell_type": "code",
   "execution_count": null,
   "id": "353b3b5e",
   "metadata": {},
   "outputs": [],
   "source": [
    "lr_pred[lr_pred<0]=0"
   ]
  },
  {
   "cell_type": "markdown",
   "id": "36134759",
   "metadata": {},
   "source": [
    "# RMSE scores of all the models"
   ]
  },
  {
   "cell_type": "code",
   "execution_count": null,
   "id": "d789c099",
   "metadata": {},
   "outputs": [],
   "source": [
    "#RMSE plot\n",
    "plt.figure(figsize=(10,10))\n",
    "RMSE = pd.DataFrame({'RMSE':np.array([np.sqrt(mean_squared_log_error(lr_pred, Y1_test)),np.sqrt(mean_squared_log_error(knn_predict, Y2_test)),np.sqrt(mean_squared_log_e\n",
    "RMSE.set_index('Model').plot(kind=\"bar\", color=\"lightblue\", legend=False)\n",
    "plt.title(\"RMSE - Lesser is Better\")"
   ]
  },
  {
   "cell_type": "code",
   "execution_count": null,
   "id": "7036d519",
   "metadata": {},
   "outputs": [],
   "source": [
    "RMSE"
   ]
  }
 ],
 "metadata": {
  "kernelspec": {
   "display_name": "Python 3 (ipykernel)",
   "language": "python",
   "name": "python3"
  },
  "language_info": {
   "codemirror_mode": {
    "name": "ipython",
    "version": 3
   },
   "file_extension": ".py",
   "mimetype": "text/x-python",
   "name": "python",
   "nbconvert_exporter": "python",
   "pygments_lexer": "ipython3",
   "version": "3.9.7"
  }
 },
 "nbformat": 4,
 "nbformat_minor": 5
}
